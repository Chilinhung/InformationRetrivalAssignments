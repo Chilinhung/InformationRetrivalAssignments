{
  "cells": [
    {
      "cell_type": "markdown",
      "metadata": {
        "id": "33arhSqAcCpZ"
      },
      "source": [
        "# ==跟 Google Drive 連線=="
      ]
    },
    {
      "cell_type": "code",
      "execution_count": null,
      "metadata": {
        "colab": {
          "base_uri": "https://localhost:8080/"
        },
        "id": "JgAGaH_XcBi9",
        "outputId": "12fdcc8b-d04c-450e-9e6a-47c84c78a687"
      },
      "outputs": [
        {
          "name": "stdout",
          "output_type": "stream",
          "text": [
            "Drive already mounted at /content/drive; to attempt to forcibly remount, call drive.mount(\"/content/drive\", force_remount=True).\n"
          ]
        }
      ],
      "source": [
        "from google.colab import drive\n",
        "drive.mount('/content/drive')"
      ]
    },
    {
      "cell_type": "markdown",
      "metadata": {
        "id": "H7mIDtbHcX0j"
      },
      "source": [
        "# ==看一下 GPU 資訊=="
      ]
    },
    {
      "cell_type": "code",
      "execution_count": null,
      "metadata": {
        "colab": {
          "base_uri": "https://localhost:8080/"
        },
        "id": "QQJiYD__cdky",
        "outputId": "4d36afe3-ed5f-4486-da0d-e4afa5f55dc3"
      },
      "outputs": [
        {
          "name": "stdout",
          "output_type": "stream",
          "text": [
            "Sat Jan  8 11:48:19 2022       \n",
            "+-----------------------------------------------------------------------------+\n",
            "| NVIDIA-SMI 495.44       Driver Version: 460.32.03    CUDA Version: 11.2     |\n",
            "|-------------------------------+----------------------+----------------------+\n",
            "| GPU  Name        Persistence-M| Bus-Id        Disp.A | Volatile Uncorr. ECC |\n",
            "| Fan  Temp  Perf  Pwr:Usage/Cap|         Memory-Usage | GPU-Util  Compute M. |\n",
            "|                               |                      |               MIG M. |\n",
            "|===============================+======================+======================|\n",
            "|   0  Tesla K80           Off  | 00000000:00:04.0 Off |                    0 |\n",
            "| N/A   32C    P8    28W / 149W |      0MiB / 11441MiB |      0%      Default |\n",
            "|                               |                      |                  N/A |\n",
            "+-------------------------------+----------------------+----------------------+\n",
            "                                                                               \n",
            "+-----------------------------------------------------------------------------+\n",
            "| Processes:                                                                  |\n",
            "|  GPU   GI   CI        PID   Type   Process name                  GPU Memory |\n",
            "|        ID   ID                                                   Usage      |\n",
            "|=============================================================================|\n",
            "|  No running processes found                                                 |\n",
            "+-----------------------------------------------------------------------------+\n"
          ]
        }
      ],
      "source": [
        "!nvidia-smi"
      ]
    },
    {
      "cell_type": "markdown",
      "metadata": {
        "id": "Pvhe3R5Ycqy5"
      },
      "source": [
        "# ==安裝 Hugging Face-Transformer =="
      ]
    },
    {
      "cell_type": "code",
      "execution_count": null,
      "metadata": {
        "colab": {
          "base_uri": "https://localhost:8080/"
        },
        "id": "hTORb8-CcuGq",
        "outputId": "d0dcfbf6-23d6-4156-9f22-d860e8db4d5c"
      },
      "outputs": [
        {
          "name": "stdout",
          "output_type": "stream",
          "text": [
            "Collecting transformers\n",
            "  Downloading transformers-4.15.0-py3-none-any.whl (3.4 MB)\n",
            "\u001b[K     |████████████████████████████████| 3.4 MB 12.5 MB/s \n",
            "\u001b[?25hRequirement already satisfied: filelock in /usr/local/lib/python3.7/dist-packages (from transformers) (3.4.0)\n",
            "Requirement already satisfied: importlib-metadata in /usr/local/lib/python3.7/dist-packages (from transformers) (4.8.2)\n",
            "Collecting sacremoses\n",
            "  Downloading sacremoses-0.0.46-py3-none-any.whl (895 kB)\n",
            "\u001b[K     |████████████████████████████████| 895 kB 41.0 MB/s \n",
            "\u001b[?25hCollecting tokenizers<0.11,>=0.10.1\n",
            "  Downloading tokenizers-0.10.3-cp37-cp37m-manylinux_2_5_x86_64.manylinux1_x86_64.manylinux_2_12_x86_64.manylinux2010_x86_64.whl (3.3 MB)\n",
            "\u001b[K     |████████████████████████████████| 3.3 MB 35.4 MB/s \n",
            "\u001b[?25hRequirement already satisfied: packaging>=20.0 in /usr/local/lib/python3.7/dist-packages (from transformers) (21.3)\n",
            "Collecting huggingface-hub<1.0,>=0.1.0\n",
            "  Downloading huggingface_hub-0.2.1-py3-none-any.whl (61 kB)\n",
            "\u001b[K     |████████████████████████████████| 61 kB 486 kB/s \n",
            "\u001b[?25hRequirement already satisfied: tqdm>=4.27 in /usr/local/lib/python3.7/dist-packages (from transformers) (4.62.3)\n",
            "Requirement already satisfied: numpy>=1.17 in /usr/local/lib/python3.7/dist-packages (from transformers) (1.19.5)\n",
            "Requirement already satisfied: requests in /usr/local/lib/python3.7/dist-packages (from transformers) (2.23.0)\n",
            "Requirement already satisfied: regex!=2019.12.17 in /usr/local/lib/python3.7/dist-packages (from transformers) (2019.12.20)\n",
            "Collecting pyyaml>=5.1\n",
            "  Downloading PyYAML-6.0-cp37-cp37m-manylinux_2_5_x86_64.manylinux1_x86_64.manylinux_2_12_x86_64.manylinux2010_x86_64.whl (596 kB)\n",
            "\u001b[K     |████████████████████████████████| 596 kB 36.4 MB/s \n",
            "\u001b[?25hRequirement already satisfied: typing-extensions>=3.7.4.3 in /usr/local/lib/python3.7/dist-packages (from huggingface-hub<1.0,>=0.1.0->transformers) (3.10.0.2)\n",
            "Requirement already satisfied: pyparsing!=3.0.5,>=2.0.2 in /usr/local/lib/python3.7/dist-packages (from packaging>=20.0->transformers) (3.0.6)\n",
            "Requirement already satisfied: zipp>=0.5 in /usr/local/lib/python3.7/dist-packages (from importlib-metadata->transformers) (3.6.0)\n",
            "Requirement already satisfied: idna<3,>=2.5 in /usr/local/lib/python3.7/dist-packages (from requests->transformers) (2.10)\n",
            "Requirement already satisfied: chardet<4,>=3.0.2 in /usr/local/lib/python3.7/dist-packages (from requests->transformers) (3.0.4)\n",
            "Requirement already satisfied: certifi>=2017.4.17 in /usr/local/lib/python3.7/dist-packages (from requests->transformers) (2021.10.8)\n",
            "Requirement already satisfied: urllib3!=1.25.0,!=1.25.1,<1.26,>=1.21.1 in /usr/local/lib/python3.7/dist-packages (from requests->transformers) (1.24.3)\n",
            "Requirement already satisfied: joblib in /usr/local/lib/python3.7/dist-packages (from sacremoses->transformers) (1.1.0)\n",
            "Requirement already satisfied: six in /usr/local/lib/python3.7/dist-packages (from sacremoses->transformers) (1.15.0)\n",
            "Requirement already satisfied: click in /usr/local/lib/python3.7/dist-packages (from sacremoses->transformers) (7.1.2)\n",
            "Installing collected packages: pyyaml, tokenizers, sacremoses, huggingface-hub, transformers\n",
            "  Attempting uninstall: pyyaml\n",
            "    Found existing installation: PyYAML 3.13\n",
            "    Uninstalling PyYAML-3.13:\n",
            "      Successfully uninstalled PyYAML-3.13\n",
            "Successfully installed huggingface-hub-0.2.1 pyyaml-6.0 sacremoses-0.0.46 tokenizers-0.10.3 transformers-4.15.0\n"
          ]
        }
      ],
      "source": [
        "!pip install transformers"
      ]
    },
    {
      "cell_type": "markdown",
      "metadata": {
        "id": "QXY-Y5kqbyla"
      },
      "source": [
        "# ==匯入需要的套件=="
      ]
    },
    {
      "cell_type": "code",
      "execution_count": null,
      "metadata": {
        "colab": {
          "base_uri": "https://localhost:8080/"
        },
        "id": "oh9HB-Owbyld",
        "outputId": "1f995718-c610-44b8-f9b3-d526bfaa1b51"
      },
      "outputs": [
        {
          "name": "stdout",
          "output_type": "stream",
          "text": [
            "2.7.0\n"
          ]
        }
      ],
      "source": [
        "import torch\n",
        "import torch.nn as nn\n",
        "from torch.utils.data import DataLoader, Dataset\n",
        "import torch.nn.utils.rnn as rnn_utils\n",
        "import torch.optim as optim\n",
        "\n",
        "from transformers import BertTokenizer\n",
        "from transformers import BertForSequenceClassification\n",
        "\n",
        "import tensorflow as tf\n",
        "from tensorflow import keras\n",
        "\n",
        "print(tf.version.VERSION)\n",
        "\n",
        "import os\n",
        "import shutil\n",
        "import numpy as np\n",
        "import pandas as pd\n",
        "from tqdm import tqdm\n",
        "import time\n",
        "import random"
      ]
    },
    {
      "cell_type": "code",
      "execution_count": null,
      "metadata": {
        "id": "OhqMDWABRznz"
      },
      "outputs": [],
      "source": []
    },
    {
      "cell_type": "markdown",
      "metadata": {
        "id": "9rkpQ3_7byle"
      },
      "source": [
        "# ==定義參數=="
      ]
    },
    {
      "cell_type": "code",
      "execution_count": null,
      "metadata": {
        "id": "awVcn4Vibylf"
      },
      "outputs": [],
      "source": [
        "# 資料相關設定 (路徑請自行修改)\n",
        "train_csv_path = '/content/drive/MyDrive/IR_hw6/Datas/train_queries_with_BM25.csv'\n",
        "doc_csv_path = '/content/drive/MyDrive/IR_hw6/Datas/documents.csv'\n",
        "test_csv_path = '/content/drive/MyDrive/IR_hw6/Datas/test_queries_with_BM25.csv'\n",
        "# 輸入相關設定\n",
        "max_seq_len = 512\n",
        "num_neg_docs = 5 # 1 個正樣本要對應到幾個負樣本\n",
        "\n",
        "# 模型相關設定\n",
        "model_name = 'bert-base-uncased'\n",
        "n_class = 2\n",
        "\n",
        "# 訓練相關設定\n",
        "learning_rate = 1e-5\n",
        "batch_size = 12\n",
        "epochs = 2\n",
        "num_workers = 2\n",
        "\n",
        "# 訓練和驗證 Query 筆數\n",
        "num_train_query = 95\n",
        "num_dev_query = 25\n",
        "\n",
        "# 保存模型的資料夾 (路徑請自行修改)\n",
        "weights_dir = '/content/drive/MyDrive/IR_hw6/weights_NEG{}'.format(num_neg_docs)"
      ]
    },
    {
      "cell_type": "markdown",
      "metadata": {
        "id": "RzT-QhDVbylf"
      },
      "source": [
        "# ==設定 Random Seed=="
      ]
    },
    {
      "cell_type": "code",
      "execution_count": null,
      "metadata": {
        "colab": {
          "base_uri": "https://localhost:8080/"
        },
        "id": "bBkkX0ltbylg",
        "outputId": "8a308601-1abf-464f-cd6b-dc66bb09311a"
      },
      "outputs": [
        {
          "data": {
            "text/plain": [
              "<torch._C.Generator at 0x7f73b866fd70>"
            ]
          },
          "execution_count": 8,
          "metadata": {},
          "output_type": "execute_result"
        }
      ],
      "source": [
        "# Random seed\n",
        "SEED = 8888\n",
        "random.seed(SEED)\n",
        "np.random.seed(SEED)\n",
        "torch.manual_seed(SEED)"
      ]
    },
    {
      "cell_type": "markdown",
      "metadata": {
        "id": "lWVy7SeCbylh"
      },
      "source": [
        "# ==設定要用哪張GPU=="
      ]
    },
    {
      "cell_type": "code",
      "execution_count": null,
      "metadata": {
        "colab": {
          "base_uri": "https://localhost:8080/"
        },
        "id": "IOM3b7OBbylh",
        "outputId": "1766ab74-20d6-4197-e0ee-beb5ede2575a"
      },
      "outputs": [
        {
          "name": "stdout",
          "output_type": "stream",
          "text": [
            "------------------------------\n",
            "All GPU:\n",
            "Tesla K80\n",
            "------------------------------\n",
            "cuda:0\n"
          ]
        }
      ],
      "source": [
        "print('-'*30)\n",
        "print('All GPU:')\n",
        "for i in range(torch.cuda.device_count()):\n",
        "    print(torch.cuda.get_device_name(i))\n",
        "print('-'*30)\n",
        "\n",
        "device = torch.device(\"cuda:0\" if torch.cuda.is_available() else \"cpu\")\n",
        "# device = torch.device(\"cpu\")\n",
        "print(device)"
      ]
    },
    {
      "cell_type": "markdown",
      "metadata": {
        "id": "8l2LCz5pbyli"
      },
      "source": [
        "# ==讀入訓練資料=="
      ]
    },
    {
      "cell_type": "code",
      "execution_count": null,
      "metadata": {
        "colab": {
          "base_uri": "https://localhost:8080/",
          "height": 815
        },
        "id": "4E6N_bQkbyli",
        "outputId": "cfefbacc-c542-4728-c1e5-fe046f53dc1f"
      },
      "outputs": [
        {
          "data": {
            "text/html": [
              "\n",
              "  <div id=\"df-201b5028-d444-4f54-a159-2f18acff1f2b\">\n",
              "    <div class=\"colab-df-container\">\n",
              "      <div>\n",
              "<style scoped>\n",
              "    .dataframe tbody tr th:only-of-type {\n",
              "        vertical-align: middle;\n",
              "    }\n",
              "\n",
              "    .dataframe tbody tr th {\n",
              "        vertical-align: top;\n",
              "    }\n",
              "\n",
              "    .dataframe thead th {\n",
              "        text-align: right;\n",
              "    }\n",
              "</style>\n",
              "<table border=\"1\" class=\"dataframe\">\n",
              "  <thead>\n",
              "    <tr style=\"text-align: right;\">\n",
              "      <th></th>\n",
              "      <th>query_id</th>\n",
              "      <th>query_text</th>\n",
              "      <th>pos_doc_ids</th>\n",
              "      <th>bm25_top1000_docs</th>\n",
              "      <th>bm25_top1000_scores</th>\n",
              "    </tr>\n",
              "  </thead>\n",
              "  <tbody>\n",
              "    <tr>\n",
              "      <th>0</th>\n",
              "      <td>381</td>\n",
              "      <td>altern medicin</td>\n",
              "      <td>FBIS3-22608 FBIS3-22653 FBIS3-46348 FBIS3-6040...</td>\n",
              "      <td>FR940819-2-00077 FBIS4-35025 FR941122-2-00061 ...</td>\n",
              "      <td>15.822446161346797 15.180961820914565 14.94272...</td>\n",
              "    </tr>\n",
              "    <tr>\n",
              "      <th>1</th>\n",
              "      <td>644</td>\n",
              "      <td>exot anim import</td>\n",
              "      <td>FR940317-1-00207 FR940317-1-00208 FR940317-1-0...</td>\n",
              "      <td>LA070190-0086 FT921-16211 FR940628-1-00012 LA0...</td>\n",
              "      <td>22.126743667831445 21.61858839336181 21.482188...</td>\n",
              "    </tr>\n",
              "    <tr>\n",
              "      <th>2</th>\n",
              "      <td>677</td>\n",
              "      <td>lean tower of pisa</td>\n",
              "      <td>FT921-8941 FT922-11710 FT923-14708 FT923-14710...</td>\n",
              "      <td>LA102089-0186 FT943-5813 FT921-8941 FT941-2727...</td>\n",
              "      <td>34.26448694760154 33.24805915650945 32.3726333...</td>\n",
              "    </tr>\n",
              "    <tr>\n",
              "      <th>3</th>\n",
              "      <td>698</td>\n",
              "      <td>literaci rate africa</td>\n",
              "      <td>FT941-12258 FT942-5993 FT943-11957</td>\n",
              "      <td>FT943-5793 LA101890-0069 LA061990-0091 FBIS3-3...</td>\n",
              "      <td>20.326126551642087 18.868811067290643 18.06107...</td>\n",
              "    </tr>\n",
              "    <tr>\n",
              "      <th>4</th>\n",
              "      <td>373</td>\n",
              "      <td>encrypt equip export</td>\n",
              "      <td>FR940111-2-00007 FR940111-2-00008 FR940111-2-0...</td>\n",
              "      <td>FT933-10240 FT943-5307 FR940902-0-00008 FT943-...</td>\n",
              "      <td>25.967172532524998 23.009039311307234 22.97709...</td>\n",
              "    </tr>\n",
              "    <tr>\n",
              "      <th>...</th>\n",
              "      <td>...</td>\n",
              "      <td>...</td>\n",
              "      <td>...</td>\n",
              "      <td>...</td>\n",
              "      <td>...</td>\n",
              "    </tr>\n",
              "    <tr>\n",
              "      <th>90</th>\n",
              "      <td>337</td>\n",
              "      <td>viral hepat</td>\n",
              "      <td>FBIS3-22547 FBIS3-22556 FBIS3-22614 FBIS3-2262...</td>\n",
              "      <td>FR940527-1-00166 FBIS3-22685 FBIS3-22624 FBIS3...</td>\n",
              "      <td>32.3187191267442 30.778449056696267 28.8151993...</td>\n",
              "    </tr>\n",
              "    <tr>\n",
              "      <th>91</th>\n",
              "      <td>360</td>\n",
              "      <td>drug legal benefit</td>\n",
              "      <td>FBIS3-10289 FBIS3-10398 FBIS3-10996 FBIS3-1121...</td>\n",
              "      <td>LA032590-0032 LA031289-0044 FT943-12194 FBIS3-...</td>\n",
              "      <td>16.022772043683783 15.87243830742991 14.796182...</td>\n",
              "    </tr>\n",
              "    <tr>\n",
              "      <th>92</th>\n",
              "      <td>649</td>\n",
              "      <td>comput virus</td>\n",
              "      <td>FBIS3-40468 FBIS3-42979 FBIS3-43017 FBIS4-5044...</td>\n",
              "      <td>FT944-9024 FBIS4-50440 FBIS4-54715 LA101189-00...</td>\n",
              "      <td>23.171366575635773 23.09406263078247 22.894454...</td>\n",
              "    </tr>\n",
              "    <tr>\n",
              "      <th>93</th>\n",
              "      <td>375</td>\n",
              "      <td>hydrogen energi</td>\n",
              "      <td>FBIS3-20985 FBIS3-22869 FBIS3-24648 FBIS3-4038...</td>\n",
              "      <td>FBIS4-20560 FBIS4-66430 FBIS4-44635 FT944-1655...</td>\n",
              "      <td>20.626687935565684 20.12872077634161 20.002341...</td>\n",
              "    </tr>\n",
              "    <tr>\n",
              "      <th>94</th>\n",
              "      <td>385</td>\n",
              "      <td>hybrid fuel car</td>\n",
              "      <td>FBIS3-21153 FBIS3-24648 FBIS3-24654 FBIS3-4037...</td>\n",
              "      <td>FT943-11934 FBIS4-44698 LA042990-0226 FT943-11...</td>\n",
              "      <td>25.699411812262078 23.095432228525354 20.94548...</td>\n",
              "    </tr>\n",
              "  </tbody>\n",
              "</table>\n",
              "<p>95 rows × 5 columns</p>\n",
              "</div>\n",
              "      <button class=\"colab-df-convert\" onclick=\"convertToInteractive('df-201b5028-d444-4f54-a159-2f18acff1f2b')\"\n",
              "              title=\"Convert this dataframe to an interactive table.\"\n",
              "              style=\"display:none;\">\n",
              "        \n",
              "  <svg xmlns=\"http://www.w3.org/2000/svg\" height=\"24px\"viewBox=\"0 0 24 24\"\n",
              "       width=\"24px\">\n",
              "    <path d=\"M0 0h24v24H0V0z\" fill=\"none\"/>\n",
              "    <path d=\"M18.56 5.44l.94 2.06.94-2.06 2.06-.94-2.06-.94-.94-2.06-.94 2.06-2.06.94zm-11 1L8.5 8.5l.94-2.06 2.06-.94-2.06-.94L8.5 2.5l-.94 2.06-2.06.94zm10 10l.94 2.06.94-2.06 2.06-.94-2.06-.94-.94-2.06-.94 2.06-2.06.94z\"/><path d=\"M17.41 7.96l-1.37-1.37c-.4-.4-.92-.59-1.43-.59-.52 0-1.04.2-1.43.59L10.3 9.45l-7.72 7.72c-.78.78-.78 2.05 0 2.83L4 21.41c.39.39.9.59 1.41.59.51 0 1.02-.2 1.41-.59l7.78-7.78 2.81-2.81c.8-.78.8-2.07 0-2.86zM5.41 20L4 18.59l7.72-7.72 1.47 1.35L5.41 20z\"/>\n",
              "  </svg>\n",
              "      </button>\n",
              "      \n",
              "  <style>\n",
              "    .colab-df-container {\n",
              "      display:flex;\n",
              "      flex-wrap:wrap;\n",
              "      gap: 12px;\n",
              "    }\n",
              "\n",
              "    .colab-df-convert {\n",
              "      background-color: #E8F0FE;\n",
              "      border: none;\n",
              "      border-radius: 50%;\n",
              "      cursor: pointer;\n",
              "      display: none;\n",
              "      fill: #1967D2;\n",
              "      height: 32px;\n",
              "      padding: 0 0 0 0;\n",
              "      width: 32px;\n",
              "    }\n",
              "\n",
              "    .colab-df-convert:hover {\n",
              "      background-color: #E2EBFA;\n",
              "      box-shadow: 0px 1px 2px rgba(60, 64, 67, 0.3), 0px 1px 3px 1px rgba(60, 64, 67, 0.15);\n",
              "      fill: #174EA6;\n",
              "    }\n",
              "\n",
              "    [theme=dark] .colab-df-convert {\n",
              "      background-color: #3B4455;\n",
              "      fill: #D2E3FC;\n",
              "    }\n",
              "\n",
              "    [theme=dark] .colab-df-convert:hover {\n",
              "      background-color: #434B5C;\n",
              "      box-shadow: 0px 1px 3px 1px rgba(0, 0, 0, 0.15);\n",
              "      filter: drop-shadow(0px 1px 2px rgba(0, 0, 0, 0.3));\n",
              "      fill: #FFFFFF;\n",
              "    }\n",
              "  </style>\n",
              "\n",
              "      <script>\n",
              "        const buttonEl =\n",
              "          document.querySelector('#df-201b5028-d444-4f54-a159-2f18acff1f2b button.colab-df-convert');\n",
              "        buttonEl.style.display =\n",
              "          google.colab.kernel.accessAllowed ? 'block' : 'none';\n",
              "\n",
              "        async function convertToInteractive(key) {\n",
              "          const element = document.querySelector('#df-201b5028-d444-4f54-a159-2f18acff1f2b');\n",
              "          const dataTable =\n",
              "            await google.colab.kernel.invokeFunction('convertToInteractive',\n",
              "                                                     [key], {});\n",
              "          if (!dataTable) return;\n",
              "\n",
              "          const docLinkHtml = 'Like what you see? Visit the ' +\n",
              "            '<a target=\"_blank\" href=https://colab.research.google.com/notebooks/data_table.ipynb>data table notebook</a>'\n",
              "            + ' to learn more about interactive tables.';\n",
              "          element.innerHTML = '';\n",
              "          dataTable['output_type'] = 'display_data';\n",
              "          await google.colab.output.renderOutput(dataTable, element);\n",
              "          const docLink = document.createElement('div');\n",
              "          docLink.innerHTML = docLinkHtml;\n",
              "          element.appendChild(docLink);\n",
              "        }\n",
              "      </script>\n",
              "    </div>\n",
              "  </div>\n",
              "  "
            ],
            "text/plain": [
              "    query_id  ...                                bm25_top1000_scores\n",
              "0        381  ...  15.822446161346797 15.180961820914565 14.94272...\n",
              "1        644  ...  22.126743667831445 21.61858839336181 21.482188...\n",
              "2        677  ...  34.26448694760154 33.24805915650945 32.3726333...\n",
              "3        698  ...  20.326126551642087 18.868811067290643 18.06107...\n",
              "4        373  ...  25.967172532524998 23.009039311307234 22.97709...\n",
              "..       ...  ...                                                ...\n",
              "90       337  ...  32.3187191267442 30.778449056696267 28.8151993...\n",
              "91       360  ...  16.022772043683783 15.87243830742991 14.796182...\n",
              "92       649  ...  23.171366575635773 23.09406263078247 22.894454...\n",
              "93       375  ...  20.626687935565684 20.12872077634161 20.002341...\n",
              "94       385  ...  25.699411812262078 23.095432228525354 20.94548...\n",
              "\n",
              "[95 rows x 5 columns]"
            ]
          },
          "execution_count": 10,
          "metadata": {},
          "output_type": "execute_result"
        }
      ],
      "source": [
        "# 訓練前 100 筆，倒數 20 筆做驗證\n",
        "data_df = pd.read_csv(train_csv_path)\n",
        "train_data_df = data_df[:num_train_query]\n",
        "dev_data_df = data_df[num_train_query:num_train_query+num_dev_query]\n",
        "\n",
        "train_data_df"
      ]
    },
    {
      "cell_type": "code",
      "execution_count": null,
      "metadata": {
        "colab": {
          "base_uri": "https://localhost:8080/",
          "height": 1000
        },
        "id": "vJ9vnTxtbylj",
        "outputId": "d9c4d712-dbdf-4716-b435-21a874be56be"
      },
      "outputs": [
        {
          "data": {
            "text/html": [
              "\n",
              "  <div id=\"df-4cc7a3bf-b8a4-43ef-b35e-5d83d394b86b\">\n",
              "    <div class=\"colab-df-container\">\n",
              "      <div>\n",
              "<style scoped>\n",
              "    .dataframe tbody tr th:only-of-type {\n",
              "        vertical-align: middle;\n",
              "    }\n",
              "\n",
              "    .dataframe tbody tr th {\n",
              "        vertical-align: top;\n",
              "    }\n",
              "\n",
              "    .dataframe thead th {\n",
              "        text-align: right;\n",
              "    }\n",
              "</style>\n",
              "<table border=\"1\" class=\"dataframe\">\n",
              "  <thead>\n",
              "    <tr style=\"text-align: right;\">\n",
              "      <th></th>\n",
              "      <th>query_id</th>\n",
              "      <th>query_text</th>\n",
              "      <th>pos_doc_ids</th>\n",
              "      <th>bm25_top1000_docs</th>\n",
              "      <th>bm25_top1000_scores</th>\n",
              "    </tr>\n",
              "  </thead>\n",
              "  <tbody>\n",
              "    <tr>\n",
              "      <th>95</th>\n",
              "      <td>398</td>\n",
              "      <td>dismantl europ s arsen</td>\n",
              "      <td>FBIS3-16615 FBIS3-17892 FBIS3-19056 FBIS3-1994...</td>\n",
              "      <td>FT934-1218 FBIS3-39268 FT943-10873 FBIS3-59919...</td>\n",
              "      <td>22.316174026113885 19.94567063881363 19.464154...</td>\n",
              "    </tr>\n",
              "    <tr>\n",
              "      <th>96</th>\n",
              "      <td>683</td>\n",
              "      <td>czechoslovakia breakup</td>\n",
              "      <td>FBIS3-20851 FBIS3-30249 FBIS3-30856 FBIS3-4911...</td>\n",
              "      <td>FBIS4-32410 FBIS3-21555 LA081789-0098 LA112389...</td>\n",
              "      <td>20.396065544688177 16.88329613293826 14.520760...</td>\n",
              "    </tr>\n",
              "    <tr>\n",
              "      <th>97</th>\n",
              "      <td>387</td>\n",
              "      <td>radioact wast</td>\n",
              "      <td>FBIS3-15634 FBIS3-1564 FBIS3-17250 FBIS3-19535...</td>\n",
              "      <td>FBIS4-64772 FBIS4-67522 FR940919-0-00103 FR940...</td>\n",
              "      <td>21.36187632757415 21.267090779562537 21.154831...</td>\n",
              "    </tr>\n",
              "    <tr>\n",
              "      <th>98</th>\n",
              "      <td>319</td>\n",
              "      <td>new fuel sourc</td>\n",
              "      <td>FBIS3-19535 FBIS3-20666 FBIS3-20668 FBIS3-2067...</td>\n",
              "      <td>FBIS4-67889 FR940406-2-00138 FBIS3-29355 FBIS3...</td>\n",
              "      <td>13.74872146079385 13.620818087242752 13.560692...</td>\n",
              "    </tr>\n",
              "    <tr>\n",
              "      <th>99</th>\n",
              "      <td>611</td>\n",
              "      <td>kurd germani violenc</td>\n",
              "      <td>FBIS3-18686 FBIS3-19768 FBIS3-19811 FBIS3-1988...</td>\n",
              "      <td>FBIS3-20083 FBIS3-20057 FBIS3-20295 FBIS4-1822...</td>\n",
              "      <td>28.649956448857615 28.22656258250029 25.640005...</td>\n",
              "    </tr>\n",
              "    <tr>\n",
              "      <th>100</th>\n",
              "      <td>443</td>\n",
              "      <td>u s invest africa</td>\n",
              "      <td>FBIS3-1408 FBIS3-43135 FBIS3-43189 FBIS3-43485...</td>\n",
              "      <td>FT932-11100 FT924-6026 FBIS4-47993 FBIS4-18481...</td>\n",
              "      <td>13.891306248401968 13.64215715687617 13.159654...</td>\n",
              "    </tr>\n",
              "    <tr>\n",
              "      <th>101</th>\n",
              "      <td>448</td>\n",
              "      <td>ship loss</td>\n",
              "      <td>FT911-1248 FT921-11935 FT922-15088 FT922-1727 ...</td>\n",
              "      <td>FT943-1368 FT934-3853 FT931-11047 FT921-6247 F...</td>\n",
              "      <td>14.330006180850999 14.307175400947706 14.00773...</td>\n",
              "    </tr>\n",
              "    <tr>\n",
              "      <th>102</th>\n",
              "      <td>691</td>\n",
              "      <td>clear cut forest</td>\n",
              "      <td>FBIS3-22240 FBIS3-22442 FBIS4-67351 FR940127-1...</td>\n",
              "      <td>FBIS3-22240 FT922-4550 LA101890-0053 LA100990-...</td>\n",
              "      <td>20.7056077577736 19.777580960469823 19.0764510...</td>\n",
              "    </tr>\n",
              "    <tr>\n",
              "      <th>103</th>\n",
              "      <td>445</td>\n",
              "      <td>women clergi</td>\n",
              "      <td>FT921-11838 FT921-11847 FT921-11857 FT921-4820...</td>\n",
              "      <td>FT931-11616 FT942-2917 FT943-15291 LA020390-00...</td>\n",
              "      <td>22.386429898267224 21.530488033244307 20.62948...</td>\n",
              "    </tr>\n",
              "    <tr>\n",
              "      <th>104</th>\n",
              "      <td>419</td>\n",
              "      <td>recycl automobil tire</td>\n",
              "      <td>FBIS3-24648 FBIS3-42464 FBIS3-43002 FBIS3-4304...</td>\n",
              "      <td>FBIS3-41645 LA040190-0174 FBIS4-67400 FR940916...</td>\n",
              "      <td>28.02024572876838 23.90712475239058 22.5986694...</td>\n",
              "    </tr>\n",
              "    <tr>\n",
              "      <th>105</th>\n",
              "      <td>616</td>\n",
              "      <td>volkswagen mexico</td>\n",
              "      <td>FBIS3-29850 FT911-1193 FT921-13058 FT921-236 F...</td>\n",
              "      <td>FT944-6905 FBIS3-29850 FT934-13096 FT943-3983 ...</td>\n",
              "      <td>20.88962995943772 19.695322754614473 18.323190...</td>\n",
              "    </tr>\n",
              "    <tr>\n",
              "      <th>106</th>\n",
              "      <td>367</td>\n",
              "      <td>piraci</td>\n",
              "      <td>FBIS3-26326 FBIS3-26692 FBIS3-28019 FBIS3-2849...</td>\n",
              "      <td>FT944-16684 FT924-15875 FT923-9880 FT911-4085 ...</td>\n",
              "      <td>16.539695363262403 16.424862712839268 15.88517...</td>\n",
              "    </tr>\n",
              "    <tr>\n",
              "      <th>107</th>\n",
              "      <td>376</td>\n",
              "      <td>world court</td>\n",
              "      <td>FBIS3-12389 FBIS3-12692 FBIS3-1356 FBIS3-13650...</td>\n",
              "      <td>LA051989-0166 FT931-5667 LA030889-0148 FT932-1...</td>\n",
              "      <td>8.805971834733262 8.730072991651571 8.67526340...</td>\n",
              "    </tr>\n",
              "    <tr>\n",
              "      <th>108</th>\n",
              "      <td>426</td>\n",
              "      <td>law enforc dog</td>\n",
              "      <td>FBIS3-21694 FBIS3-21879 FBIS3-21891 FBIS3-2189...</td>\n",
              "      <td>LA051990-0141 LA041089-0080 LA012990-0011 LA06...</td>\n",
              "      <td>21.713432504955982 19.914225475891943 19.34210...</td>\n",
              "    </tr>\n",
              "    <tr>\n",
              "      <th>109</th>\n",
              "      <td>310</td>\n",
              "      <td>radio wave and brain cancer</td>\n",
              "      <td>FT922-15435 FT931-10746 FT931-11436 FT931-1195...</td>\n",
              "      <td>FT931-11958 LA101389-0003 FT921-6318 FT924-131...</td>\n",
              "      <td>24.768443646577026 18.002933139115754 17.94904...</td>\n",
              "    </tr>\n",
              "    <tr>\n",
              "      <th>110</th>\n",
              "      <td>358</td>\n",
              "      <td>blood alcohol fatal</td>\n",
              "      <td>LA011089-0095 LA011289-0070 LA011290-0111 LA01...</td>\n",
              "      <td>LA040789-0022 LA040689-0027 LA091689-0056 LA09...</td>\n",
              "      <td>26.642696997193855 26.41465998594329 25.375050...</td>\n",
              "    </tr>\n",
              "    <tr>\n",
              "      <th>111</th>\n",
              "      <td>603</td>\n",
              "      <td>tobacco cigarett lawsuit</td>\n",
              "      <td>FT942-6205 FT942-7072 FT944-12181 FT944-12460 ...</td>\n",
              "      <td>LA072790-0059 FT924-9307 LA050889-0086 FT943-8...</td>\n",
              "      <td>31.823989283529507 30.844695014870158 30.61835...</td>\n",
              "    </tr>\n",
              "    <tr>\n",
              "      <th>112</th>\n",
              "      <td>389</td>\n",
              "      <td>illeg technolog transfer</td>\n",
              "      <td>FBIS3-18834 FBIS3-19116 FBIS3-19465 FBIS3-2017...</td>\n",
              "      <td>FT922-3845 FBIS3-48526 FBIS3-41110 FT932-120 F...</td>\n",
              "      <td>15.641924804227445 15.262133261969455 15.26213...</td>\n",
              "    </tr>\n",
              "    <tr>\n",
              "      <th>113</th>\n",
              "      <td>678</td>\n",
              "      <td>joint custodi impact</td>\n",
              "      <td>LA020289-0103 LA031690-0158 LA040989-0151 LA05...</td>\n",
              "      <td>LA031690-0158 FR940906-2-00112 FBIS4-67032 LA0...</td>\n",
              "      <td>17.09548795798956 16.087366093045002 15.859867...</td>\n",
              "    </tr>\n",
              "    <tr>\n",
              "      <th>114</th>\n",
              "      <td>390</td>\n",
              "      <td>orphan drug</td>\n",
              "      <td>FBIS3-59753 FR940110-0-00027 FR940110-0-00028 ...</td>\n",
              "      <td>LA111090-0112 LA062690-0105 FT941-10753 FR9408...</td>\n",
              "      <td>21.205112703041046 19.362601801887408 19.13828...</td>\n",
              "    </tr>\n",
              "    <tr>\n",
              "      <th>115</th>\n",
              "      <td>428</td>\n",
              "      <td>declin birth rate</td>\n",
              "      <td>FBIS3-11397 FBIS3-12001 FBIS3-14003 FBIS3-1598...</td>\n",
              "      <td>FT941-16778 FT943-11076 LA030990-0060 FT931-13...</td>\n",
              "      <td>19.97836085700316 19.876889036107137 19.066295...</td>\n",
              "    </tr>\n",
              "    <tr>\n",
              "      <th>116</th>\n",
              "      <td>657</td>\n",
              "      <td>school prayer ban</td>\n",
              "      <td>FT944-8109 FT944-8813 LA011490-0191 LA011789-0...</td>\n",
              "      <td>LA053089-0108 LA052189-0047 LA060590-0018 LA06...</td>\n",
              "      <td>24.00800225585554 22.440205200752807 20.806147...</td>\n",
              "    </tr>\n",
              "    <tr>\n",
              "      <th>117</th>\n",
              "      <td>344</td>\n",
              "      <td>abus of e mail</td>\n",
              "      <td>FT922-1463 FT941-6854 FT942-12165 LA052390-009...</td>\n",
              "      <td>FT941-7089 FT941-9644 LA092689-0053 LA122490-0...</td>\n",
              "      <td>9.909289705108536 9.790470827830386 9.46925562...</td>\n",
              "    </tr>\n",
              "    <tr>\n",
              "      <th>118</th>\n",
              "      <td>301</td>\n",
              "      <td>intern organ crime</td>\n",
              "      <td>FBIS3-10082 FBIS3-10243 FBIS3-10397 FBIS3-1049...</td>\n",
              "      <td>LA112489-0141 FBIS4-40260 FBIS3-23986 FBIS3-19...</td>\n",
              "      <td>15.038748760616418 14.798101398702457 14.60411...</td>\n",
              "    </tr>\n",
              "    <tr>\n",
              "      <th>119</th>\n",
              "      <td>663</td>\n",
              "      <td>agent orang exposur</td>\n",
              "      <td>FBIS3-41650 FR940104-2-00081 FR940104-2-00082 ...</td>\n",
              "      <td>LA081090-0080 LA060989-0123 FR940202-0-00093 L...</td>\n",
              "      <td>26.93371469668994 23.841001828912418 23.691744...</td>\n",
              "    </tr>\n",
              "  </tbody>\n",
              "</table>\n",
              "</div>\n",
              "      <button class=\"colab-df-convert\" onclick=\"convertToInteractive('df-4cc7a3bf-b8a4-43ef-b35e-5d83d394b86b')\"\n",
              "              title=\"Convert this dataframe to an interactive table.\"\n",
              "              style=\"display:none;\">\n",
              "        \n",
              "  <svg xmlns=\"http://www.w3.org/2000/svg\" height=\"24px\"viewBox=\"0 0 24 24\"\n",
              "       width=\"24px\">\n",
              "    <path d=\"M0 0h24v24H0V0z\" fill=\"none\"/>\n",
              "    <path d=\"M18.56 5.44l.94 2.06.94-2.06 2.06-.94-2.06-.94-.94-2.06-.94 2.06-2.06.94zm-11 1L8.5 8.5l.94-2.06 2.06-.94-2.06-.94L8.5 2.5l-.94 2.06-2.06.94zm10 10l.94 2.06.94-2.06 2.06-.94-2.06-.94-.94-2.06-.94 2.06-2.06.94z\"/><path d=\"M17.41 7.96l-1.37-1.37c-.4-.4-.92-.59-1.43-.59-.52 0-1.04.2-1.43.59L10.3 9.45l-7.72 7.72c-.78.78-.78 2.05 0 2.83L4 21.41c.39.39.9.59 1.41.59.51 0 1.02-.2 1.41-.59l7.78-7.78 2.81-2.81c.8-.78.8-2.07 0-2.86zM5.41 20L4 18.59l7.72-7.72 1.47 1.35L5.41 20z\"/>\n",
              "  </svg>\n",
              "      </button>\n",
              "      \n",
              "  <style>\n",
              "    .colab-df-container {\n",
              "      display:flex;\n",
              "      flex-wrap:wrap;\n",
              "      gap: 12px;\n",
              "    }\n",
              "\n",
              "    .colab-df-convert {\n",
              "      background-color: #E8F0FE;\n",
              "      border: none;\n",
              "      border-radius: 50%;\n",
              "      cursor: pointer;\n",
              "      display: none;\n",
              "      fill: #1967D2;\n",
              "      height: 32px;\n",
              "      padding: 0 0 0 0;\n",
              "      width: 32px;\n",
              "    }\n",
              "\n",
              "    .colab-df-convert:hover {\n",
              "      background-color: #E2EBFA;\n",
              "      box-shadow: 0px 1px 2px rgba(60, 64, 67, 0.3), 0px 1px 3px 1px rgba(60, 64, 67, 0.15);\n",
              "      fill: #174EA6;\n",
              "    }\n",
              "\n",
              "    [theme=dark] .colab-df-convert {\n",
              "      background-color: #3B4455;\n",
              "      fill: #D2E3FC;\n",
              "    }\n",
              "\n",
              "    [theme=dark] .colab-df-convert:hover {\n",
              "      background-color: #434B5C;\n",
              "      box-shadow: 0px 1px 3px 1px rgba(0, 0, 0, 0.15);\n",
              "      filter: drop-shadow(0px 1px 2px rgba(0, 0, 0, 0.3));\n",
              "      fill: #FFFFFF;\n",
              "    }\n",
              "  </style>\n",
              "\n",
              "      <script>\n",
              "        const buttonEl =\n",
              "          document.querySelector('#df-4cc7a3bf-b8a4-43ef-b35e-5d83d394b86b button.colab-df-convert');\n",
              "        buttonEl.style.display =\n",
              "          google.colab.kernel.accessAllowed ? 'block' : 'none';\n",
              "\n",
              "        async function convertToInteractive(key) {\n",
              "          const element = document.querySelector('#df-4cc7a3bf-b8a4-43ef-b35e-5d83d394b86b');\n",
              "          const dataTable =\n",
              "            await google.colab.kernel.invokeFunction('convertToInteractive',\n",
              "                                                     [key], {});\n",
              "          if (!dataTable) return;\n",
              "\n",
              "          const docLinkHtml = 'Like what you see? Visit the ' +\n",
              "            '<a target=\"_blank\" href=https://colab.research.google.com/notebooks/data_table.ipynb>data table notebook</a>'\n",
              "            + ' to learn more about interactive tables.';\n",
              "          element.innerHTML = '';\n",
              "          dataTable['output_type'] = 'display_data';\n",
              "          await google.colab.output.renderOutput(dataTable, element);\n",
              "          const docLink = document.createElement('div');\n",
              "          docLink.innerHTML = docLinkHtml;\n",
              "          element.appendChild(docLink);\n",
              "        }\n",
              "      </script>\n",
              "    </div>\n",
              "  </div>\n",
              "  "
            ],
            "text/plain": [
              "     query_id  ...                                bm25_top1000_scores\n",
              "95        398  ...  22.316174026113885 19.94567063881363 19.464154...\n",
              "96        683  ...  20.396065544688177 16.88329613293826 14.520760...\n",
              "97        387  ...  21.36187632757415 21.267090779562537 21.154831...\n",
              "98        319  ...  13.74872146079385 13.620818087242752 13.560692...\n",
              "99        611  ...  28.649956448857615 28.22656258250029 25.640005...\n",
              "100       443  ...  13.891306248401968 13.64215715687617 13.159654...\n",
              "101       448  ...  14.330006180850999 14.307175400947706 14.00773...\n",
              "102       691  ...  20.7056077577736 19.777580960469823 19.0764510...\n",
              "103       445  ...  22.386429898267224 21.530488033244307 20.62948...\n",
              "104       419  ...  28.02024572876838 23.90712475239058 22.5986694...\n",
              "105       616  ...  20.88962995943772 19.695322754614473 18.323190...\n",
              "106       367  ...  16.539695363262403 16.424862712839268 15.88517...\n",
              "107       376  ...  8.805971834733262 8.730072991651571 8.67526340...\n",
              "108       426  ...  21.713432504955982 19.914225475891943 19.34210...\n",
              "109       310  ...  24.768443646577026 18.002933139115754 17.94904...\n",
              "110       358  ...  26.642696997193855 26.41465998594329 25.375050...\n",
              "111       603  ...  31.823989283529507 30.844695014870158 30.61835...\n",
              "112       389  ...  15.641924804227445 15.262133261969455 15.26213...\n",
              "113       678  ...  17.09548795798956 16.087366093045002 15.859867...\n",
              "114       390  ...  21.205112703041046 19.362601801887408 19.13828...\n",
              "115       428  ...  19.97836085700316 19.876889036107137 19.066295...\n",
              "116       657  ...  24.00800225585554 22.440205200752807 20.806147...\n",
              "117       344  ...  9.909289705108536 9.790470827830386 9.46925562...\n",
              "118       301  ...  15.038748760616418 14.798101398702457 14.60411...\n",
              "119       663  ...  26.93371469668994 23.841001828912418 23.691744...\n",
              "\n",
              "[25 rows x 5 columns]"
            ]
          },
          "execution_count": 11,
          "metadata": {},
          "output_type": "execute_result"
        }
      ],
      "source": [
        "dev_data_df"
      ]
    },
    {
      "cell_type": "code",
      "execution_count": null,
      "metadata": {
        "colab": {
          "base_uri": "https://localhost:8080/",
          "height": 424
        },
        "id": "XQWzjoSfbylj",
        "outputId": "b01ba50c-bf98-474f-fec1-77b905a15e50"
      },
      "outputs": [
        {
          "data": {
            "text/html": [
              "\n",
              "  <div id=\"df-be2bf2a2-93a6-4b08-bdcb-27ebb6c24b4c\">\n",
              "    <div class=\"colab-df-container\">\n",
              "      <div>\n",
              "<style scoped>\n",
              "    .dataframe tbody tr th:only-of-type {\n",
              "        vertical-align: middle;\n",
              "    }\n",
              "\n",
              "    .dataframe tbody tr th {\n",
              "        vertical-align: top;\n",
              "    }\n",
              "\n",
              "    .dataframe thead th {\n",
              "        text-align: right;\n",
              "    }\n",
              "</style>\n",
              "<table border=\"1\" class=\"dataframe\">\n",
              "  <thead>\n",
              "    <tr style=\"text-align: right;\">\n",
              "      <th></th>\n",
              "      <th>doc_id</th>\n",
              "      <th>doc_text</th>\n",
              "    </tr>\n",
              "  </thead>\n",
              "  <tbody>\n",
              "    <tr>\n",
              "      <th>0</th>\n",
              "      <td>FBIS3-22608</td>\n",
              "      <td>languag f p 105 thai f articl type bfn text th...</td>\n",
              "    </tr>\n",
              "    <tr>\n",
              "      <th>1</th>\n",
              "      <td>FBIS3-22653</td>\n",
              "      <td>languag f p 105 ukrainian f articl type bfn f ...</td>\n",
              "    </tr>\n",
              "    <tr>\n",
              "      <th>2</th>\n",
              "      <td>FBIS3-46348</td>\n",
              "      <td>languag f p 105 english f articl type bfn f p ...</td>\n",
              "    </tr>\n",
              "    <tr>\n",
              "      <th>3</th>\n",
              "      <td>FBIS3-60406</td>\n",
              "      <td>languag f p 105 english f articl type bfn text...</td>\n",
              "    </tr>\n",
              "    <tr>\n",
              "      <th>4</th>\n",
              "      <td>FBIS4-20452</td>\n",
              "      <td>93 pp 290 296 f p 103 40091007d f f p 104 beij...</td>\n",
              "    </tr>\n",
              "    <tr>\n",
              "      <th>...</th>\n",
              "      <td>...</td>\n",
              "      <td>...</td>\n",
              "    </tr>\n",
              "    <tr>\n",
              "      <th>99995</th>\n",
              "      <td>FT911-4300</td>\n",
              "      <td>ft 19 apr 91 intern compani news pfizer advanc...</td>\n",
              "    </tr>\n",
              "    <tr>\n",
              "      <th>99996</th>\n",
              "      <td>FBIS3-42705</td>\n",
              "      <td>languag f p 105 russian f articl type cso f p ...</td>\n",
              "    </tr>\n",
              "    <tr>\n",
              "      <th>99997</th>\n",
              "      <td>FT942-11913</td>\n",
              "      <td>ft 04 may 94 world news in brief lubber seek b...</td>\n",
              "    </tr>\n",
              "    <tr>\n",
              "      <th>99998</th>\n",
              "      <td>FR940705-0-00015</td>\n",
              "      <td>execut order 12372 thi final rule is exclud fr...</td>\n",
              "    </tr>\n",
              "    <tr>\n",
              "      <th>99999</th>\n",
              "      <td>FT943-5519</td>\n",
              "      <td>ft 03 sep 94 pound 72 000 award to rsi suffer ...</td>\n",
              "    </tr>\n",
              "  </tbody>\n",
              "</table>\n",
              "<p>100000 rows × 2 columns</p>\n",
              "</div>\n",
              "      <button class=\"colab-df-convert\" onclick=\"convertToInteractive('df-be2bf2a2-93a6-4b08-bdcb-27ebb6c24b4c')\"\n",
              "              title=\"Convert this dataframe to an interactive table.\"\n",
              "              style=\"display:none;\">\n",
              "        \n",
              "  <svg xmlns=\"http://www.w3.org/2000/svg\" height=\"24px\"viewBox=\"0 0 24 24\"\n",
              "       width=\"24px\">\n",
              "    <path d=\"M0 0h24v24H0V0z\" fill=\"none\"/>\n",
              "    <path d=\"M18.56 5.44l.94 2.06.94-2.06 2.06-.94-2.06-.94-.94-2.06-.94 2.06-2.06.94zm-11 1L8.5 8.5l.94-2.06 2.06-.94-2.06-.94L8.5 2.5l-.94 2.06-2.06.94zm10 10l.94 2.06.94-2.06 2.06-.94-2.06-.94-.94-2.06-.94 2.06-2.06.94z\"/><path d=\"M17.41 7.96l-1.37-1.37c-.4-.4-.92-.59-1.43-.59-.52 0-1.04.2-1.43.59L10.3 9.45l-7.72 7.72c-.78.78-.78 2.05 0 2.83L4 21.41c.39.39.9.59 1.41.59.51 0 1.02-.2 1.41-.59l7.78-7.78 2.81-2.81c.8-.78.8-2.07 0-2.86zM5.41 20L4 18.59l7.72-7.72 1.47 1.35L5.41 20z\"/>\n",
              "  </svg>\n",
              "      </button>\n",
              "      \n",
              "  <style>\n",
              "    .colab-df-container {\n",
              "      display:flex;\n",
              "      flex-wrap:wrap;\n",
              "      gap: 12px;\n",
              "    }\n",
              "\n",
              "    .colab-df-convert {\n",
              "      background-color: #E8F0FE;\n",
              "      border: none;\n",
              "      border-radius: 50%;\n",
              "      cursor: pointer;\n",
              "      display: none;\n",
              "      fill: #1967D2;\n",
              "      height: 32px;\n",
              "      padding: 0 0 0 0;\n",
              "      width: 32px;\n",
              "    }\n",
              "\n",
              "    .colab-df-convert:hover {\n",
              "      background-color: #E2EBFA;\n",
              "      box-shadow: 0px 1px 2px rgba(60, 64, 67, 0.3), 0px 1px 3px 1px rgba(60, 64, 67, 0.15);\n",
              "      fill: #174EA6;\n",
              "    }\n",
              "\n",
              "    [theme=dark] .colab-df-convert {\n",
              "      background-color: #3B4455;\n",
              "      fill: #D2E3FC;\n",
              "    }\n",
              "\n",
              "    [theme=dark] .colab-df-convert:hover {\n",
              "      background-color: #434B5C;\n",
              "      box-shadow: 0px 1px 3px 1px rgba(0, 0, 0, 0.15);\n",
              "      filter: drop-shadow(0px 1px 2px rgba(0, 0, 0, 0.3));\n",
              "      fill: #FFFFFF;\n",
              "    }\n",
              "  </style>\n",
              "\n",
              "      <script>\n",
              "        const buttonEl =\n",
              "          document.querySelector('#df-be2bf2a2-93a6-4b08-bdcb-27ebb6c24b4c button.colab-df-convert');\n",
              "        buttonEl.style.display =\n",
              "          google.colab.kernel.accessAllowed ? 'block' : 'none';\n",
              "\n",
              "        async function convertToInteractive(key) {\n",
              "          const element = document.querySelector('#df-be2bf2a2-93a6-4b08-bdcb-27ebb6c24b4c');\n",
              "          const dataTable =\n",
              "            await google.colab.kernel.invokeFunction('convertToInteractive',\n",
              "                                                     [key], {});\n",
              "          if (!dataTable) return;\n",
              "\n",
              "          const docLinkHtml = 'Like what you see? Visit the ' +\n",
              "            '<a target=\"_blank\" href=https://colab.research.google.com/notebooks/data_table.ipynb>data table notebook</a>'\n",
              "            + ' to learn more about interactive tables.';\n",
              "          element.innerHTML = '';\n",
              "          dataTable['output_type'] = 'display_data';\n",
              "          await google.colab.output.renderOutput(dataTable, element);\n",
              "          const docLink = document.createElement('div');\n",
              "          docLink.innerHTML = docLinkHtml;\n",
              "          element.appendChild(docLink);\n",
              "        }\n",
              "      </script>\n",
              "    </div>\n",
              "  </div>\n",
              "  "
            ],
            "text/plain": [
              "                 doc_id                                           doc_text\n",
              "0           FBIS3-22608  languag f p 105 thai f articl type bfn text th...\n",
              "1           FBIS3-22653  languag f p 105 ukrainian f articl type bfn f ...\n",
              "2           FBIS3-46348  languag f p 105 english f articl type bfn f p ...\n",
              "3           FBIS3-60406  languag f p 105 english f articl type bfn text...\n",
              "4           FBIS4-20452  93 pp 290 296 f p 103 40091007d f f p 104 beij...\n",
              "...                 ...                                                ...\n",
              "99995        FT911-4300  ft 19 apr 91 intern compani news pfizer advanc...\n",
              "99996       FBIS3-42705  languag f p 105 russian f articl type cso f p ...\n",
              "99997       FT942-11913  ft 04 may 94 world news in brief lubber seek b...\n",
              "99998  FR940705-0-00015  execut order 12372 thi final rule is exclud fr...\n",
              "99999        FT943-5519  ft 03 sep 94 pound 72 000 award to rsi suffer ...\n",
              "\n",
              "[100000 rows x 2 columns]"
            ]
          },
          "execution_count": 12,
          "metadata": {},
          "output_type": "execute_result"
        }
      ],
      "source": [
        "documents_df = pd.read_csv(doc_csv_path) \n",
        "documents_df"
      ]
    },
    {
      "cell_type": "code",
      "execution_count": null,
      "metadata": {
        "colab": {
          "base_uri": "https://localhost:8080/"
        },
        "id": "qchhY40pbylj",
        "outputId": "0c5891e5-501d-4432-d27f-df9c3a3622b7"
      },
      "outputs": [
        {
          "name": "stdout",
          "output_type": "stream",
          "text": [
            "Num documents:  100000\n",
            "{\"FBIS3-22608\": \"languag f p 105 thai f articl type bfn text the deputi public health minist dr udom\n"
          ]
        }
      ],
      "source": [
        "documents_dict = {}\n",
        "import json\n",
        "for row in documents_df.to_numpy():\n",
        "    doc_id = str(row[0])\n",
        "    doc_content = str(row[1])\n",
        "    \n",
        "    documents_dict[doc_id] = doc_content\n",
        "\n",
        "print('Num documents: ', len(documents_dict))\n",
        "print(json.dumps(documents_dict)[:100])"
      ]
    },
    {
      "cell_type": "markdown",
      "metadata": {
        "id": "CL2WhWwabylk"
      },
      "source": [
        "# ==產生訓練正負樣本=="
      ]
    },
    {
      "cell_type": "code",
      "execution_count": null,
      "metadata": {
        "colab": {
          "base_uri": "https://localhost:8080/"
        },
        "id": "gu_dxOYFbylk",
        "outputId": "319fa98a-3e83-4173-8161-ffbe87bdd329"
      },
      "outputs": [
        {
          "name": "stdout",
          "output_type": "stream",
          "text": [
            "Num document IDs:  100000\n",
            "[\"FBIS3-22608\", \"FBIS3-22653\", \"FBIS3-46348\", \"FBIS3-60406\", \"FBIS4-20452\", \"FBIS4-45369\", \"FBIS4-51\n"
          ]
        }
      ],
      "source": [
        "documents_ID = list(documents_dict.keys())\n",
        "\n",
        "print('Num document IDs: ', len(documents_ID))\n",
        "print(json.dumps(documents_ID)[:100])"
      ]
    },
    {
      "cell_type": "markdown",
      "metadata": {
        "id": "oqfzZwJubylk"
      },
      "source": [
        "* ### 隨機產生不在原本 pos_doc_list 裡的 doc 做負樣本"
      ]
    },
    {
      "cell_type": "code",
      "execution_count": null,
      "metadata": {
        "id": "rNpBPEH1byll"
      },
      "outputs": [],
      "source": [
        "def gen_neg_docs(pos_docs_list, bm25_top1000_docs_list, documents_ID, num_neg_docs):\n",
        "    neg_doc = bm25_top1000_docs_list[0] # 先隨便拿一個做初始化\n",
        "    neg_docs_list = []\n",
        "    \n",
        "    for i in range(1, len(pos_docs_list)*num_neg_docs+1):\n",
        "        while (neg_doc in pos_docs_list) or (neg_doc in neg_docs_list):\n",
        "            if i < len(bm25_top1000_docs_list)-len(pos_docs_list):\n",
        "                neg_doc = random.choice(bm25_top1000_docs_list) # 從 BM25 top 1000 中選負樣本\n",
        "            else:\n",
        "                neg_doc = random.choice(documents_ID) # 從全部文檔中選負樣本\n",
        "            \n",
        "        neg_docs_list.append(neg_doc)\n",
        "        \n",
        "    return neg_docs_list"
      ]
    },
    {
      "cell_type": "code",
      "execution_count": null,
      "metadata": {
        "colab": {
          "base_uri": "https://localhost:8080/"
        },
        "id": "65zXA-Mbbyll",
        "outputId": "24e09f21-c34b-4d86-f85f-d0dd9384d5a0"
      },
      "outputs": [
        {
          "name": "stderr",
          "output_type": "stream",
          "text": [
            "100%|██████████| 95/95 [00:01<00:00, 90.28it/s] "
          ]
        },
        {
          "name": "stdout",
          "output_type": "stream",
          "text": [
            "Num Train Data:  36072\n"
          ]
        },
        {
          "name": "stderr",
          "output_type": "stream",
          "text": [
            "\n"
          ]
        }
      ],
      "source": [
        "train_pos_neg_data = [] # 保存所有的訓練正負樣本\n",
        "\n",
        "for i in tqdm(range(len(train_data_df))):\n",
        "    row = train_data_df.iloc[i]\n",
        "    pos_docs_list = row['pos_doc_ids'].split() # 拿到此筆 Query 相關文檔的標準答案\n",
        "    bm25_top1000_docs_list = row['bm25_top1000_docs'].split() # 拿到 BM25 的預測結果\n",
        "    \n",
        "    # 添加正樣本\n",
        "    for docID in pos_docs_list:\n",
        "        train_pos_neg_data.append({\n",
        "            'query': row['query_text'],\n",
        "            'doc': documents_dict[docID],\n",
        "            'relevant': 1 # 相關\n",
        "        })\n",
        "       \n",
        "    # 添加負樣本\n",
        "    neg_docs_list = gen_neg_docs(\n",
        "        pos_docs_list=pos_docs_list,\n",
        "        bm25_top1000_docs_list=bm25_top1000_docs_list,\n",
        "        documents_ID=documents_ID,\n",
        "        num_neg_docs=num_neg_docs\n",
        "    )\n",
        "    for docID in neg_docs_list:\n",
        "        train_pos_neg_data.append({\n",
        "            'query': row['query_text'],\n",
        "            'doc': documents_dict[docID],\n",
        "            'relevant': 0 # 不相關\n",
        "        })\n",
        "        \n",
        "print('Num Train Data: ', len(train_pos_neg_data))"
      ]
    },
    {
      "cell_type": "markdown",
      "metadata": {
        "id": "JEva5Ma_bylm"
      },
      "source": [
        "# ==定義 BERT 使用的 tokenizer=="
      ]
    },
    {
      "cell_type": "code",
      "execution_count": null,
      "metadata": {
        "colab": {
          "base_uri": "https://localhost:8080/",
          "height": 162,
          "referenced_widgets": [
            "65136ee1600f4a0895b3331b39fe4adf",
            "681b456644914d6cbd31d8852b520062",
            "82da66b42b044110819c807ac49b3870",
            "fc2f6795ce3d4d77a36c510efabd051f",
            "5530c1bd724b433fb53b6d1644b66898",
            "42fa851ead4b437989effae1e08a0294",
            "1c3b32c6131f43e7bfc142290c2d3676",
            "1ffe160b47fc492ca257965cc9edcc14",
            "a519aaab64b24351b0dac9e5774999cb",
            "6e11f448aebb4c50b1af4bc90894b292",
            "bbe074c34aab4651abe915068ccf8d33",
            "33e0543acbf34cceb7b59de287ff8a82",
            "618b8ef208d84c1ca872b0b079367fcc",
            "9182169fa63d4f21a701092ca6414075",
            "9580ba74ff7d4f70967afd58435f98d5",
            "6e29d37a9a02478a89e220209f37a5e5",
            "e37ebb32e0504aee92afbd0ae59e3f50",
            "c626a46cac324065b98b153a31cd3c60",
            "a04302ec4dbf407e9760de9ceeb9d43e",
            "473630c3660f4e66ae99b9b81121a5c2",
            "5a0f5a8d89ec49a8be5d40c979206488",
            "edd9e763749e4f1c8d64c2e688211ae8",
            "a4d31012bfdb454baf7ba92c58bef70d",
            "2ce835ee25d8409d8436f644205a0357",
            "e664b5c01e8743249229e285134e3444",
            "8064201606134764af8b9a4ace51de1c",
            "1137bf0561484861b5d5381faf11fa58",
            "1909fee7230c460c8e0cbf1af18aa0d9",
            "0a45ef62b2c146c284178e75001ed6d1",
            "8a8908bbe6004763b46e0658eae146d9",
            "93e7293b9ba74efa93d1830308e68d2e",
            "d1203f94efdb45dca3a0684e902c4211",
            "c16db0b96b744bfdbe67c47a4b98dd40",
            "ae76bf52553e41499dc441850961645a",
            "29df3def2dc74a529a536b5a48ad11e7",
            "ff443b9975b1408fa6078c3679a38089",
            "d5b5304a0017407da0d5b5c1dd7d0a3d",
            "87d663e36544419fab45164df99999a5",
            "621d9818976142999b1fc2c4905530c1",
            "aa0c24be86c24820a1a88f32380e4664",
            "40cedf6c595149839e66240052f37f7f",
            "40c016ebc2e34dd680c9292fd74db0d0",
            "a8b5a6e732c6480bb92619bacb3ced54",
            "88d0a61a30e744f8b44aba8fa2727d26"
          ]
        },
        "id": "0pUzwS_5bylm",
        "outputId": "82187eb4-b9d7-4aac-920a-ef74b085a1c7"
      },
      "outputs": [
        {
          "data": {
            "application/vnd.jupyter.widget-view+json": {
              "model_id": "65136ee1600f4a0895b3331b39fe4adf",
              "version_major": 2,
              "version_minor": 0
            },
            "text/plain": [
              "Downloading:   0%|          | 0.00/226k [00:00<?, ?B/s]"
            ]
          },
          "metadata": {},
          "output_type": "display_data"
        },
        {
          "data": {
            "application/vnd.jupyter.widget-view+json": {
              "model_id": "33e0543acbf34cceb7b59de287ff8a82",
              "version_major": 2,
              "version_minor": 0
            },
            "text/plain": [
              "Downloading:   0%|          | 0.00/28.0 [00:00<?, ?B/s]"
            ]
          },
          "metadata": {},
          "output_type": "display_data"
        },
        {
          "data": {
            "application/vnd.jupyter.widget-view+json": {
              "model_id": "a4d31012bfdb454baf7ba92c58bef70d",
              "version_major": 2,
              "version_minor": 0
            },
            "text/plain": [
              "Downloading:   0%|          | 0.00/455k [00:00<?, ?B/s]"
            ]
          },
          "metadata": {},
          "output_type": "display_data"
        },
        {
          "data": {
            "application/vnd.jupyter.widget-view+json": {
              "model_id": "ae76bf52553e41499dc441850961645a",
              "version_major": 2,
              "version_minor": 0
            },
            "text/plain": [
              "Downloading:   0%|          | 0.00/570 [00:00<?, ?B/s]"
            ]
          },
          "metadata": {},
          "output_type": "display_data"
        },
        {
          "name": "stdout",
          "output_type": "stream",
          "text": [
            "字典大小： 30522\n"
          ]
        }
      ],
      "source": [
        "# 取得預訓練模型所使用的 tokenizer\n",
        "tokenizer = BertTokenizer.from_pretrained(\n",
        "    pretrained_model_name_or_path=model_name\n",
        ")\n",
        "print(\"字典大小：\", len(tokenizer.vocab))"
      ]
    },
    {
      "cell_type": "code",
      "execution_count": null,
      "metadata": {
        "colab": {
          "base_uri": "https://localhost:8080/"
        },
        "id": "RtmSrHclFv3s",
        "outputId": "0712ddc4-4da9-4a56-c829-cd9a58163271"
      },
      "outputs": [
        {
          "name": "stdout",
          "output_type": "stream",
          "text": [
            "{\"[PAD]\": 0, \"[unused0]\": 1, \"[unused1]\": 2, \"[unused2]\": 3, \"[unused3]\": 4, \"[unused4]\": 5, \"[unused5]\": 6, \"[unused6]\": 7, \"[unused7]\": 8, \"[unused8]\": 9, \"[unused9]\": 10, \"[unused10]\": 11, \"[unused11]\": 12, \"[unused12]\": 13, \"[unused13]\": 14, \"[unused14]\": 15, \"[unused15]\": 16, \"[unused16]\": 17, \n"
          ]
        }
      ],
      "source": [
        "print(json.dumps(tokenizer.vocab)[:300])"
      ]
    },
    {
      "cell_type": "markdown",
      "metadata": {
        "id": "KIsi38JFbylm"
      },
      "source": [
        "# ==定義訓練 DataSet=="
      ]
    },
    {
      "cell_type": "code",
      "execution_count": null,
      "metadata": {
        "id": "Eyp1zyDRbylm"
      },
      "outputs": [],
      "source": [
        "class TrainDataset(Dataset):\n",
        "    def __init__(self, pos_neg_data, tokenizer, max_seq_len):\n",
        "        self.pos_neg_data = pos_neg_data\n",
        "        self.tokenizer = tokenizer\n",
        "        self.max_seq_len = max_seq_len\n",
        "        \n",
        "    def __len__(self):\n",
        "        return len(self.pos_neg_data)\n",
        "    \n",
        "    def __getitem__(self, idx):\n",
        "        # 建立 query 的 token 並在前後加入 [CLS] [SEP]\n",
        "        query_wordpiece = ['[CLS]'] + self.tokenizer.tokenize(\n",
        "            self.pos_neg_data[idx]['query']) + ['[SEP]']\n",
        "        query_len = len(query_wordpiece)\n",
        "        \n",
        "        # 建立 doc 的 token\n",
        "        # 要記得只能取前 max_seq_len 個單字，要不然會爆掉\n",
        "        doc_wordpiece = self.tokenizer.tokenize(\n",
        "            self.pos_neg_data[idx]['doc'])[:(self.max_seq_len-query_len-1)] + ['[SEP]']\n",
        "        doc_len = len(doc_wordpiece)\n",
        "        \n",
        "        wordpiece = query_wordpiece + doc_wordpiece\n",
        "        tokens_tensor = torch.tensor(\n",
        "            self.tokenizer.convert_tokens_to_ids(wordpiece), dtype=torch.long\n",
        "        )\n",
        "        \n",
        "        segments_tensor = torch.tensor(\n",
        "            [0]*query_len + [1]*doc_len, dtype=torch.long\n",
        "        )\n",
        "        \n",
        "        masks_tensor = torch.tensor(\n",
        "            [1]*(query_len+doc_len), dtype=torch.long\n",
        "        )\n",
        "        \n",
        "        label_tensor = torch.tensor(\n",
        "            train_pos_neg_data[idx]['relevant'], dtype=torch.long\n",
        "        )\n",
        "        \n",
        "        return tokens_tensor, segments_tensor, masks_tensor, label_tensor"
      ]
    },
    {
      "cell_type": "code",
      "execution_count": null,
      "metadata": {
        "id": "YWp5ZCCwbyln"
      },
      "outputs": [],
      "source": [
        "def collate_fn(data):\n",
        "    tokens_tensor, segments_tensor, masks_tensor, label_tensor = zip(*data)\n",
        "    \n",
        "    tokens_tensor = rnn_utils.pad_sequence(list(tokens_tensor), batch_first=True)\n",
        "    segments_tensor = rnn_utils.pad_sequence(list(segments_tensor), batch_first=True)\n",
        "    masks_tensor = rnn_utils.pad_sequence(list(masks_tensor), batch_first=True)\n",
        "    label_tensor = torch.tensor(list(label_tensor))\n",
        "    \n",
        "    return tokens_tensor, segments_tensor, masks_tensor, label_tensor"
      ]
    },
    {
      "cell_type": "code",
      "execution_count": null,
      "metadata": {
        "colab": {
          "base_uri": "https://localhost:8080/"
        },
        "id": "Fqoh9j3obyln",
        "outputId": "7c61f364-1406-42f9-e604-ea53dfcb8ee5"
      },
      "outputs": [
        {
          "name": "stdout",
          "output_type": "stream",
          "text": [
            "Num Train Data:  36072\n"
          ]
        }
      ],
      "source": [
        "train_set = TrainDataset(\n",
        "    pos_neg_data=train_pos_neg_data, \n",
        "    tokenizer=tokenizer,\n",
        "    max_seq_len=max_seq_len\n",
        ")\n",
        "train_loader = DataLoader(\n",
        "    dataset=train_set, \n",
        "    batch_size=batch_size, \n",
        "    shuffle=True,\n",
        "    collate_fn=collate_fn,\n",
        "    num_workers=num_workers\n",
        ")\n",
        "\n",
        "print('Num Train Data: ', len(train_set))"
      ]
    },
    {
      "cell_type": "markdown",
      "metadata": {
        "id": "d181fNyKbyln"
      },
      "source": [
        "# ==初始化 BERT 模型=="
      ]
    },
    {
      "cell_type": "code",
      "execution_count": null,
      "metadata": {
        "colab": {
          "base_uri": "https://localhost:8080/",
          "height": 590,
          "referenced_widgets": [
            "20f2ad9d2e224b1eb3b90df05b5acbfa",
            "d1f2b6a5bd994062b29c94bf15872db9",
            "58ed4ccd6f1d4ebbbe3dce1503b5645d",
            "e994c90c5b80454db70125777387b2b1",
            "bd5170ca87dc4956ac85709081263245",
            "19f2a96167d441ceb881cccfaea6dd83",
            "dc0b1399a3224c118ce2656f74fffcc6",
            "629840199a4847d8be60530aef975b5e",
            "f805b1e148414d62bf6d2ed74da95fb2",
            "326fe00534f042be8b4f40b8c3f29ff7",
            "cff40f2ffcb4416ab210bd1e3e482bcc"
          ]
        },
        "id": "jNvErDJWbyln",
        "outputId": "62d501fa-7140-4ca6-efff-66a7a28a5368"
      },
      "outputs": [
        {
          "data": {
            "application/vnd.jupyter.widget-view+json": {
              "model_id": "20f2ad9d2e224b1eb3b90df05b5acbfa",
              "version_major": 2,
              "version_minor": 0
            },
            "text/plain": [
              "Downloading:   0%|          | 0.00/420M [00:00<?, ?B/s]"
            ]
          },
          "metadata": {},
          "output_type": "display_data"
        },
        {
          "name": "stderr",
          "output_type": "stream",
          "text": [
            "Some weights of the model checkpoint at bert-base-uncased were not used when initializing BertForSequenceClassification: ['cls.predictions.transform.dense.bias', 'cls.predictions.decoder.weight', 'cls.predictions.bias', 'cls.predictions.transform.LayerNorm.bias', 'cls.predictions.transform.LayerNorm.weight', 'cls.predictions.transform.dense.weight', 'cls.seq_relationship.weight', 'cls.seq_relationship.bias']\n",
            "- This IS expected if you are initializing BertForSequenceClassification from the checkpoint of a model trained on another task or with another architecture (e.g. initializing a BertForSequenceClassification model from a BertForPreTraining model).\n",
            "- This IS NOT expected if you are initializing BertForSequenceClassification from the checkpoint of a model that you expect to be exactly identical (initializing a BertForSequenceClassification model from a BertForSequenceClassification model).\n",
            "Some weights of BertForSequenceClassification were not initialized from the model checkpoint at bert-base-uncased and are newly initialized: ['classifier.bias', 'classifier.weight']\n",
            "You should probably TRAIN this model on a down-stream task to be able to use it for predictions and inference.\n"
          ]
        },
        {
          "data": {
            "text/plain": [
              "BertConfig {\n",
              "  \"_name_or_path\": \"bert-base-uncased\",\n",
              "  \"architectures\": [\n",
              "    \"BertForMaskedLM\"\n",
              "  ],\n",
              "  \"attention_probs_dropout_prob\": 0.1,\n",
              "  \"classifier_dropout\": null,\n",
              "  \"gradient_checkpointing\": false,\n",
              "  \"hidden_act\": \"gelu\",\n",
              "  \"hidden_dropout_prob\": 0.1,\n",
              "  \"hidden_size\": 768,\n",
              "  \"initializer_range\": 0.02,\n",
              "  \"intermediate_size\": 3072,\n",
              "  \"layer_norm_eps\": 1e-12,\n",
              "  \"max_position_embeddings\": 512,\n",
              "  \"model_type\": \"bert\",\n",
              "  \"num_attention_heads\": 12,\n",
              "  \"num_hidden_layers\": 12,\n",
              "  \"pad_token_id\": 0,\n",
              "  \"position_embedding_type\": \"absolute\",\n",
              "  \"transformers_version\": \"4.15.0\",\n",
              "  \"type_vocab_size\": 2,\n",
              "  \"use_cache\": true,\n",
              "  \"vocab_size\": 30522\n",
              "}"
            ]
          },
          "execution_count": 22,
          "metadata": {},
          "output_type": "execute_result"
        }
      ],
      "source": [
        "model = BertForSequenceClassification.from_pretrained(\n",
        "    pretrained_model_name_or_path=model_name, \n",
        "    num_labels=n_class\n",
        ").to(device)\n",
        "\n",
        "model.config"
      ]
    },
    {
      "cell_type": "code",
      "execution_count": null,
      "metadata": {
        "colab": {
          "base_uri": "https://localhost:8080/"
        },
        "id": "xOz97FH0bylo",
        "outputId": "8a4e84d4-a03f-4084-c5e2-48889d318ef4"
      },
      "outputs": [
        {
          "name": "stdout",
          "output_type": "stream",
          "text": [
            "--------------------\n",
            "Name       | Module\n",
            "--------------------\n",
            "bert       : embeddings\n",
            "bert       : encoder\n",
            "bert       : pooler\n",
            "dropout    : Dropout(p=0.1, inplace=False)\n",
            "classifier : Linear(in_features=768, out_features=2, bias=True)\n"
          ]
        }
      ],
      "source": [
        "print('-'*20)\n",
        "print('{:10} | {:}'.format('Name', 'Module'))\n",
        "print('-'*20)\n",
        "for name, module in model.named_children():\n",
        "    if name == 'bert':\n",
        "        for n, _ in module.named_children():\n",
        "            print('{:11}: {}'.format(name, n))\n",
        "    else:\n",
        "        print('{:11}: {}'.format(name, module))"
      ]
    },
    {
      "cell_type": "markdown",
      "metadata": {
        "id": "16_13htSbylo"
      },
      "source": [
        "# ==訓練模型=="
      ]
    },
    {
      "cell_type": "markdown",
      "metadata": {
        "id": "1h-_l9Rrbylo"
      },
      "source": [
        "* ## 定義優化方法"
      ]
    },
    {
      "cell_type": "code",
      "execution_count": null,
      "metadata": {
        "id": "aH3B6-5gbylo"
      },
      "outputs": [],
      "source": [
        "optimizer = optim.AdamW(model.parameters(), lr=learning_rate)"
      ]
    },
    {
      "cell_type": "markdown",
      "metadata": {
        "id": "V_gRD5IPbylo"
      },
      "source": [
        "* ## 定義訓練函數"
      ]
    },
    {
      "cell_type": "code",
      "execution_count": null,
      "metadata": {
        "id": "LCkuL4cpbylo"
      },
      "outputs": [],
      "source": [
        "def train_one_epoch(train_loader, model, epoch, num_epochs, optimizer, device):\n",
        "    running_loss = 0.0\n",
        "            \n",
        "    model.train()  # 訓練\n",
        "    loop = tqdm(enumerate(train_loader), total=len(train_loader))\n",
        "    for batch_idx, (tokens_tensor, segments_tensor, masks_tensor, label_tensor) in loop:\n",
        "        \n",
        "        tokens_tensor = tokens_tensor.to(device)\n",
        "        segments_tensor = segments_tensor.to(device)\n",
        "        masks_tensor = masks_tensor.to(device)\n",
        "        label_tensor = label_tensor.to(device)\n",
        "        \n",
        "         # 把上次的梯度清掉\n",
        "        optimizer.zero_grad()\n",
        "        \n",
        "        # 只有訓練的時候計算及更新梯度\n",
        "        with torch.set_grad_enabled(True):\n",
        "            '''\n",
        "            TODO: \n",
        "                完成前向傳播並計算模型的 Loss\n",
        "            '''\n",
        "\n",
        "            loss = model(input_ids= tokens_tensor, token_type_ids=segments_tensor, attention_mask=masks_tensor, labels=label_tensor)[0]### 1. insert_missing_code ###\n",
        "\n",
        "            # 誤差反向傳播並更新參數\n",
        "            loss.backward()\n",
        "            optimizer.step()\n",
        "\n",
        "        # 計算總誤差\n",
        "        running_loss += loss.item() * tokens_tensor.size(0)\n",
        "        \n",
        "        # 設定 tqdm 要顯示的東西\n",
        "        loop.set_description(f\"[Train Epoch {epoch}/{num_epochs}]\")\n",
        "        loop.set_postfix(loss=loss.item())\n",
        "        \n",
        "    epoch_loss = running_loss / len(train_loader.dataset)\n",
        "    \n",
        "    return epoch_loss"
      ]
    },
    {
      "cell_type": "code",
      "execution_count": null,
      "metadata": {
        "id": "jwl0u91cbylp"
      },
      "outputs": [],
      "source": [
        "def train_model(model, train_loader, optimizer, device, num_epochs, file_path):\n",
        "    since = time.time()\n",
        "\n",
        "    for epoch in range(1, num_epochs+1):\n",
        "        print('=' * 70)\n",
        "        print('Epoch {}/{}'.format(epoch, num_epochs))\n",
        "        print('=' * 70)\n",
        "        \n",
        "        epoch_loss = train_one_epoch(\n",
        "            train_loader=train_loader, \n",
        "            model=model, \n",
        "            epoch=epoch, \n",
        "            num_epochs=num_epochs, \n",
        "            optimizer=optimizer, \n",
        "            device=device\n",
        "        )\n",
        "\n",
        "        time_elapsed = time.time() - since\n",
        "        print('Time elapsed {:.0f}m {:.0f}s'.format(time_elapsed // 60, time_elapsed % 60))\n",
        "        print('Loss: {:.4f}'.format(epoch_loss))\n",
        "        print('-' * 70)\n",
        "                \n",
        "        # 保存模型 \n",
        "        torch.save(model.state_dict(), os.path.join(file_path, 'checkpoint_{}.pth'.format(epoch)))\n",
        "                \n",
        "        print('-' * 70)\n",
        "        print('*' * 70)\n",
        "        print('\\n\\n\\n')\n",
        "        \n",
        "\n",
        "    time_elapsed = time.time() - since\n",
        "    print('Training complete in {:.0f}m {:.0f}s'.format(time_elapsed // 60, time_elapsed % 60))"
      ]
    },
    {
      "cell_type": "code",
      "execution_count": null,
      "metadata": {
        "colab": {
          "base_uri": "https://localhost:8080/"
        },
        "id": "XcOiyn0Hbylp",
        "outputId": "d57a7356-adfb-41df-d267-07ef7ca35b09"
      },
      "outputs": [
        {
          "name": "stdout",
          "output_type": "stream",
          "text": [
            "======================================================================\n",
            "Epoch 1/2\n",
            "======================================================================\n"
          ]
        },
        {
          "name": "stderr",
          "output_type": "stream",
          "text": [
            "[Train Epoch 1/2]: 100%|██████████| 3280/3280 [1:51:12<00:00,  2.03s/it, loss=0.0953]\n"
          ]
        },
        {
          "name": "stdout",
          "output_type": "stream",
          "text": [
            "Time elapsed 111m 13s\n",
            "Loss: 0.2999\n",
            "----------------------------------------------------------------------\n",
            "----------------------------------------------------------------------\n",
            "**********************************************************************\n",
            "\n",
            "\n",
            "\n",
            "\n",
            "======================================================================\n",
            "Epoch 2/2\n",
            "======================================================================\n"
          ]
        },
        {
          "name": "stderr",
          "output_type": "stream",
          "text": [
            "[Train Epoch 2/2]: 100%|██████████| 3280/3280 [1:51:37<00:00,  2.04s/it, loss=0.258]\n"
          ]
        },
        {
          "name": "stdout",
          "output_type": "stream",
          "text": [
            "Time elapsed 222m 53s\n",
            "Loss: 0.1984\n",
            "----------------------------------------------------------------------\n",
            "----------------------------------------------------------------------\n",
            "**********************************************************************\n",
            "\n",
            "\n",
            "\n",
            "\n",
            "Training complete in 222m 56s\n"
          ]
        }
      ],
      "source": [
        "# 生成保存模型的目錄\n",
        "if os.path.exists(weights_dir):\n",
        "    shutil.rmtree(weights_dir)\n",
        "    \n",
        "os.mkdir(weights_dir)\n",
        "\n",
        "\n",
        "# 訓練模型\n",
        "train_model(\n",
        "    model=model, \n",
        "    train_loader=train_loader, \n",
        "    optimizer=optimizer, \n",
        "    device=device, \n",
        "    num_epochs=epochs, \n",
        "    file_path=weights_dir\n",
        ")"
      ]
    },
    {
      "cell_type": "code",
      "execution_count": null,
      "metadata": {
        "colab": {
          "base_uri": "https://localhost:8080/",
          "height": 357
        },
        "id": "tz6zauJ1R51l",
        "outputId": "11b2ccbe-64e1-40b2-a32e-23faaec854c2"
      },
      "outputs": [
        {
          "ename": "AttributeError",
          "evalue": "ignored",
          "output_type": "error",
          "traceback": [
            "\u001b[0;31m---------------------------------------------------------------------------\u001b[0m",
            "\u001b[0;31mAttributeError\u001b[0m                            Traceback (most recent call last)",
            "\u001b[0;32m<ipython-input-28-dd47c05355be>\u001b[0m in \u001b[0;36m<module>\u001b[0;34m()\u001b[0m\n\u001b[1;32m      1\u001b[0m \u001b[0;31m# Save the weights\u001b[0m\u001b[0;34m\u001b[0m\u001b[0;34m\u001b[0m\u001b[0;34m\u001b[0m\u001b[0m\n\u001b[0;32m----> 2\u001b[0;31m \u001b[0mmodel\u001b[0m\u001b[0;34m.\u001b[0m\u001b[0msave_weights\u001b[0m\u001b[0;34m(\u001b[0m\u001b[0;34m'./checkpoints/my_checkpoint'\u001b[0m\u001b[0;34m)\u001b[0m\u001b[0;34m\u001b[0m\u001b[0;34m\u001b[0m\u001b[0m\n\u001b[0m\u001b[1;32m      3\u001b[0m \u001b[0;34m\u001b[0m\u001b[0m\n\u001b[1;32m      4\u001b[0m \u001b[0;31m# Create a new model instance\u001b[0m\u001b[0;34m\u001b[0m\u001b[0;34m\u001b[0m\u001b[0;34m\u001b[0m\u001b[0m\n\u001b[1;32m      5\u001b[0m \u001b[0mmodel\u001b[0m \u001b[0;34m=\u001b[0m \u001b[0mcreate_model\u001b[0m\u001b[0;34m(\u001b[0m\u001b[0;34m)\u001b[0m\u001b[0;34m\u001b[0m\u001b[0;34m\u001b[0m\u001b[0m\n",
            "\u001b[0;32m/usr/local/lib/python3.7/dist-packages/torch/nn/modules/module.py\u001b[0m in \u001b[0;36m__getattr__\u001b[0;34m(self, name)\u001b[0m\n\u001b[1;32m   1176\u001b[0m                 \u001b[0;32mreturn\u001b[0m \u001b[0mmodules\u001b[0m\u001b[0;34m[\u001b[0m\u001b[0mname\u001b[0m\u001b[0;34m]\u001b[0m\u001b[0;34m\u001b[0m\u001b[0;34m\u001b[0m\u001b[0m\n\u001b[1;32m   1177\u001b[0m         raise AttributeError(\"'{}' object has no attribute '{}'\".format(\n\u001b[0;32m-> 1178\u001b[0;31m             type(self).__name__, name))\n\u001b[0m\u001b[1;32m   1179\u001b[0m \u001b[0;34m\u001b[0m\u001b[0m\n\u001b[1;32m   1180\u001b[0m     \u001b[0;32mdef\u001b[0m \u001b[0m__setattr__\u001b[0m\u001b[0;34m(\u001b[0m\u001b[0mself\u001b[0m\u001b[0;34m,\u001b[0m \u001b[0mname\u001b[0m\u001b[0;34m:\u001b[0m \u001b[0mstr\u001b[0m\u001b[0;34m,\u001b[0m \u001b[0mvalue\u001b[0m\u001b[0;34m:\u001b[0m \u001b[0mUnion\u001b[0m\u001b[0;34m[\u001b[0m\u001b[0mTensor\u001b[0m\u001b[0;34m,\u001b[0m \u001b[0;34m'Module'\u001b[0m\u001b[0;34m]\u001b[0m\u001b[0;34m)\u001b[0m \u001b[0;34m->\u001b[0m \u001b[0;32mNone\u001b[0m\u001b[0;34m:\u001b[0m\u001b[0;34m\u001b[0m\u001b[0;34m\u001b[0m\u001b[0m\n",
            "\u001b[0;31mAttributeError\u001b[0m: 'BertForSequenceClassification' object has no attribute 'save_weights'"
          ]
        }
      ],
      "source": [
        "# Save the weights\n",
        "model.save_weights('./checkpoints/my_checkpoint')\n",
        "\n",
        "# Create a new model instance\n",
        "model = create_model()\n",
        "\n",
        "# Restore the weights\n",
        "model.load_weights('./checkpoints/my_checkpoint')\n",
        "\n",
        "# Evaluate the model\n",
        "loss, acc = model.evaluate(test_images, test_labels, verbose=2)\n",
        "print(\"Restored model, accuracy: {:5.2f}%\".format(100 * acc))"
      ]
    },
    {
      "cell_type": "markdown",
      "metadata": {
        "id": "ihnX-Wfmbyls"
      },
      "source": [
        "# ==驗證模型=="
      ]
    },
    {
      "cell_type": "markdown",
      "metadata": {
        "id": "fgHxpftXbyls"
      },
      "source": [
        "* ### 載入驗證資料"
      ]
    },
    {
      "cell_type": "code",
      "execution_count": null,
      "metadata": {
        "id": "M8i4aqjObyls"
      },
      "outputs": [],
      "source": [
        "dev_data = []\n",
        "\n",
        "for i in range(len(dev_data_df)):\n",
        "    row = dev_data_df.iloc[i]\n",
        "    #print(row)\n",
        "    for doc_id in row['bm25_top1000_docs'].split():\n",
        "        dev_data.append({\n",
        "            'query_id': row['query_id'],\n",
        "            'query_text': row['query_text'],\n",
        "            'doc_id': doc_id,\n",
        "            'doc_text': documents_dict[doc_id]\n",
        "        })\n",
        "print(dev_data[0]) \n",
        "print('Num Dev Data: ', len(dev_data))"
      ]
    },
    {
      "cell_type": "markdown",
      "metadata": {
        "id": "v0YV4zVubyls"
      },
      "source": [
        "* ### 定義驗證 Dataset"
      ]
    },
    {
      "cell_type": "code",
      "execution_count": null,
      "metadata": {
        "id": "m9zd5CJRbylt"
      },
      "outputs": [],
      "source": [
        "class EvalDataset(Dataset):\n",
        "    def __init__(self, data, tokenizer, max_seq_len):\n",
        "        self.data = data\n",
        "        self.tokenizer = tokenizer\n",
        "        self.max_seq_len = max_seq_len\n",
        "        \n",
        "    def __len__(self):\n",
        "        return len(self.data)\n",
        "    \n",
        "    def __getitem__(self, idx):\n",
        "        query_id = self.data[idx]['query_id']\n",
        "        # 建立 query 的 token 並在前後加入 [CLS] [SEP]\n",
        "        query_wordpiece = ['[CLS]'] + self.tokenizer.tokenize(\n",
        "            self.data[idx]['query_text']) + ['[SEP]']\n",
        "        query_len = len(query_wordpiece)\n",
        "        \n",
        "        doc_id = self.data[idx]['doc_id']\n",
        "        # 建立 doc 的 token\n",
        "        # 要記得只能取前 max_seq_len 個單字，要不然會爆掉\n",
        "        doc_wordpiece = self.tokenizer.tokenize(\n",
        "            self.data[idx]['doc_text'])[:(self.max_seq_len-query_len-1)] + ['[SEP]']\n",
        "        doc_len = len(doc_wordpiece)\n",
        "        \n",
        "        wordpiece = query_wordpiece + doc_wordpiece\n",
        "        tokens_tensor = torch.tensor(\n",
        "            self.tokenizer.convert_tokens_to_ids(wordpiece), dtype=torch.long\n",
        "        )\n",
        "        \n",
        "        segments_tensor = torch.tensor(\n",
        "            [0]*query_len + [1]*doc_len, dtype=torch.long\n",
        "        )\n",
        "        \n",
        "        masks_tensor = torch.tensor(\n",
        "            [1]*(query_len+doc_len), dtype=torch.long\n",
        "        )\n",
        "        \n",
        "        return query_id, doc_id, tokens_tensor, segments_tensor, masks_tensor"
      ]
    },
    {
      "cell_type": "code",
      "execution_count": null,
      "metadata": {
        "id": "NUtSvdBYbylt"
      },
      "outputs": [],
      "source": [
        "def eval_collate_fn(data):\n",
        "    query_id, doc_id, tokens_tensor, segments_tensor, masks_tensor = zip(*data)\n",
        "    \n",
        "    query_id = list(query_id)\n",
        "    doc_id = list(doc_id)\n",
        "    tokens_tensor = rnn_utils.pad_sequence(list(tokens_tensor), batch_first=True)\n",
        "    segments_tensor = rnn_utils.pad_sequence(list(segments_tensor), batch_first=True)\n",
        "    masks_tensor = rnn_utils.pad_sequence(list(masks_tensor), batch_first=True)\n",
        "    \n",
        "    return query_id, doc_id, tokens_tensor, segments_tensor, masks_tensor"
      ]
    },
    {
      "cell_type": "code",
      "execution_count": null,
      "metadata": {
        "id": "iFuimjVqbylt"
      },
      "outputs": [],
      "source": [
        "eval_set = EvalDataset(\n",
        "    data=dev_data, \n",
        "    tokenizer=tokenizer,\n",
        "    max_seq_len=max_seq_len\n",
        ")\n",
        "eval_loader = DataLoader(\n",
        "    dataset=eval_set,\n",
        "    batch_size=batch_size, \n",
        "    shuffle=False, \n",
        "    collate_fn=eval_collate_fn,\n",
        "    num_workers=num_workers\n",
        ")\n",
        "\n",
        "print('Num Eval Data: ', len(eval_set))"
      ]
    },
    {
      "cell_type": "markdown",
      "metadata": {
        "id": "VHgpElYPbylt"
      },
      "source": [
        "* ### 定義預測函數"
      ]
    },
    {
      "cell_type": "code",
      "execution_count": null,
      "metadata": {
        "id": "ybDMuWjzbylt"
      },
      "outputs": [],
      "source": [
        "def get_predict_result(data_loader, data_df, model, device):\n",
        "    predict_result = {int(key):{} for key in data_df['query_id'].to_numpy()}\n",
        "    \n",
        "    model.eval()   # 驗證\n",
        "    loop = tqdm(enumerate(data_loader), total=len(data_loader))\n",
        "    for batch_idx, (query_id, doc_id, tokens_tensor, segments_tensor, masks_tensor) in loop:\n",
        "        \n",
        "        tokens_tensor = tokens_tensor.to(device)\n",
        "        segments_tensor = segments_tensor.to(device)\n",
        "        masks_tensor = masks_tensor.to(device)\n",
        "\n",
        "        # 驗證時不用計算及更新梯度\n",
        "        with torch.no_grad():\n",
        "            '''\n",
        "            TODO: \n",
        "                完成模型的前向傳播，並拿到模型預測出的分數\n",
        "            '''\n",
        "            outputs = model(input_ids=tokens_tensor, token_type_ids=segments_tensor, attention_mask=masks_tensor)[0]### 1. insert_missing_code ###\n",
        "            \n",
        "            for i in range(len(query_id)):\n",
        "                predict_result[query_id[i]][doc_id[i]] = float(outputs[i][1].cpu().numpy())\n",
        "        \n",
        "        # 設定 tqdm 要顯示的東西\n",
        "        loop.set_description(f\"[Predict]\")\n",
        "    \n",
        "    return predict_result"
      ]
    },
    {
      "cell_type": "markdown",
      "metadata": {
        "id": "LnEqha12bylt"
      },
      "source": [
        "* ### 進行預測"
      ]
    },
    {
      "cell_type": "code",
      "execution_count": null,
      "metadata": {
        "id": "nBHgrs7gbylu"
      },
      "outputs": [],
      "source": [
        "# 載入預訓練好的參數\n",
        "checkpoint = torch.load(os.path.join(weights_dir, 'checkpoint_1.pth'), map_location=device)\n",
        "model.load_state_dict(checkpoint)\n",
        "model.to(device)\n",
        "\n",
        "bert_predict_result = get_predict_result(\n",
        "    data_loader=eval_loader,\n",
        "    data_df=dev_data_df,\n",
        "    model=model, \n",
        "    device=device\n",
        ")"
      ]
    },
    {
      "cell_type": "markdown",
      "metadata": {
        "id": "piG9jfV4bylu"
      },
      "source": [
        "* ### 拿到答案"
      ]
    },
    {
      "cell_type": "code",
      "execution_count": null,
      "metadata": {
        "id": "vUXtRuPxbylu"
      },
      "outputs": [],
      "source": [
        "ground_true = {}\n",
        "\n",
        "for i in range(len(dev_data_df)):\n",
        "    row = dev_data_df.iloc[i]\n",
        "    query_id = int(row['query_id'])\n",
        "    pos_docs = row['pos_doc_ids'].split()\n",
        "    \n",
        "    ground_true[query_id] = pos_docs\n",
        "    \n",
        "print('Num Answers: ', len(ground_true))"
      ]
    },
    {
      "cell_type": "markdown",
      "metadata": {
        "id": "vrFHzFQ8bylu"
      },
      "source": [
        "* ### 拿到 BM25 的預測分數"
      ]
    },
    {
      "cell_type": "code",
      "execution_count": null,
      "metadata": {
        "id": "uHhY_0N0bylu"
      },
      "outputs": [],
      "source": [
        "bm25_predict_result = {int(key):{} for key in dev_data_df['query_id'].to_numpy()}\n",
        "\n",
        "for i in range(len(dev_data_df)):\n",
        "    row = dev_data_df.iloc[i]\n",
        "    query_id = int(row['query_id'])\n",
        "    bm25_top_1000_doc_ID = row['bm25_top1000_docs'].split()\n",
        "    bm25_top_1000_doc_Score = row['bm25_top1000_scores'].split()\n",
        "    \n",
        "    for i in range(len(bm25_top_1000_doc_ID)):\n",
        "        score = float(bm25_top_1000_doc_Score[i])\n",
        "        if np.isnan(score):\n",
        "            bm25_predict_result[query_id][bm25_top_1000_doc_ID[i]] = 0\n",
        "        else:\n",
        "            bm25_predict_result[query_id][bm25_top_1000_doc_ID[i]] = score\n",
        "    \n",
        "print('Num BM25 Results: ', len(bm25_predict_result))"
      ]
    },
    {
      "cell_type": "markdown",
      "metadata": {
        "id": "xxRMxey4bylu"
      },
      "source": [
        "* ### 把 BM25, BERT 預測結果結合再一起，並進行重新排序"
      ]
    },
    {
      "cell_type": "code",
      "execution_count": null,
      "metadata": {
        "id": "sLkdXQmIbylu"
      },
      "outputs": [],
      "source": [
        "def get_ranking_result(alpha, bm25_predict_result, bert_predict_result):\n",
        "    combine_predict_result = {}\n",
        "\n",
        "    for query_id in bm25_predict_result:\n",
        "        bm25_scores = []\n",
        "        bert_scores = []\n",
        "        doc_ids = list(bm25_predict_result[query_id].keys())\n",
        "\n",
        "        for doc_id in doc_ids:\n",
        "            bm25_scores.append(bm25_predict_result[query_id][doc_id])\n",
        "            bert_scores.append(bert_predict_result[query_id][doc_id])\n",
        "\n",
        "        bm25_scores = np.array(bm25_scores)\n",
        "        bert_scores = np.array(bert_scores)\n",
        "\n",
        "        '''\n",
        "        TODO: \n",
        "            把 BM25 跟 BERT 的分數結合在一起，BM25 + (α·Bert)\n",
        "        '''\n",
        "        final_score = bm25_scores + alpha * bert_scores ## 1. insert_missing_code ###\n",
        "        rank = final_score.argsort()[::-1]\n",
        "\n",
        "        docs_rerank_result = []\n",
        "        for i in rank:\n",
        "            docs_rerank_result.append(doc_ids[i])\n",
        "\n",
        "        combine_predict_result[query_id] = docs_rerank_result\n",
        "        \n",
        "    return combine_predict_result"
      ]
    },
    {
      "cell_type": "code",
      "execution_count": null,
      "metadata": {
        "id": "iz7Y1biBqZtg"
      },
      "outputs": [],
      "source": [
        "!pip install ml_metrics"
      ]
    },
    {
      "cell_type": "markdown",
      "metadata": {
        "id": "9TW7rqyibylv"
      },
      "source": [
        "* ### 計算重新排序後的 MAP 分數"
      ]
    },
    {
      "cell_type": "code",
      "execution_count": null,
      "metadata": {
        "id": "8czh_36Fbylv"
      },
      "outputs": [],
      "source": [
        "\n",
        "from ml_metrics import mapk\n",
        "def get_MAP(ground_true, ranking_result):\n",
        "    '''\n",
        "    TODO: \n",
        "        完成 MAP 分數計算\n",
        "\n",
        "        ground_true: 標準答案\n",
        "        ranking_result: BM25 + (α·Bert) 的預測結果\n",
        "\n",
        "    '''\n",
        "    MAP = mapk(list(ground_true.values())[0], list(ranking_result.values())[0], k = 1000)### 1. insert_missing_code ###\n",
        "    return MAP"
      ]
    },
    {
      "cell_type": "markdown",
      "metadata": {
        "id": "OEuFvFbSbylv"
      },
      "source": [
        "* ### 找出最佳的 BERT Weight Alpha"
      ]
    },
    {
      "cell_type": "code",
      "execution_count": null,
      "metadata": {
        "id": "0vWhEJ5Vbylv"
      },
      "outputs": [],
      "source": [
        "def find_best_alpha(bm25_predict_result, bert_predict_result, ground_true):\n",
        "    \n",
        "    best_alpha = 0\n",
        "    best_MAP = 0\n",
        "\n",
        "    for alpha in tqdm(np.arange(0.0, 10.0, 0.01)):\n",
        "        ranking_result = get_ranking_result(\n",
        "            alpha=alpha, \n",
        "            bm25_predict_result=bm25_predict_result, \n",
        "            bert_predict_result=bert_predict_result\n",
        "        )\n",
        "        MAP = get_MAP(ground_true=ground_true, ranking_result=ranking_result)\n",
        "\n",
        "        if MAP > best_MAP:\n",
        "            best_alpha = alpha\n",
        "            best_MAP = MAP\n",
        "            \n",
        "    return best_alpha, best_MAP"
      ]
    },
    {
      "cell_type": "code",
      "execution_count": null,
      "metadata": {
        "id": "_SsgcbkBbylv"
      },
      "outputs": [],
      "source": [
        "best_alpha, best_MAP = find_best_alpha(\n",
        "    bm25_predict_result=bm25_predict_result, \n",
        "    bert_predict_result=bert_predict_result,\n",
        "    ground_true=ground_true\n",
        ")\n",
        "\n",
        "print('Best Alpha: ', best_alpha)\n",
        "print('Best MAP: ', best_MAP)"
      ]
    },
    {
      "cell_type": "code",
      "execution_count": null,
      "metadata": {
        "id": "moKl4L3PpKv0"
      },
      "outputs": [],
      "source": [
        "test_data_df = pd.read_csv(test_csv_path)\n",
        "\n",
        "test_data = []\n",
        "\n",
        "for i in range(len(test_data_df)):\n",
        "    row = test_data_df.iloc[i]\n",
        "    #print(row)\n",
        "    for doc_id in row['bm25_top1000_docs'].split():\n",
        "        test_data.append({\n",
        "            'query_id': row['query_id'],\n",
        "            'query_text': row['query_text'],\n",
        "            'doc_id': doc_id,\n",
        "            'doc_text': documents_dict[doc_id]\n",
        "        })\n",
        "print(test_data[0]) \n",
        "print('Num test Data: ', len(test_data))"
      ]
    },
    {
      "cell_type": "code",
      "execution_count": null,
      "metadata": {
        "id": "lHs8EgfTrBx_"
      },
      "outputs": [],
      "source": [
        "test_set = EvalDataset(\n",
        "    data=test_data, \n",
        "    tokenizer=tokenizer,\n",
        "    max_seq_len=max_seq_len\n",
        ")\n",
        "test_loader = DataLoader(\n",
        "    dataset=test_set,\n",
        "    batch_size=batch_size, \n",
        "    shuffle=False, \n",
        "    collate_fn=eval_collate_fn,\n",
        "    num_workers=num_workers\n",
        ")\n",
        "\n",
        "print('Num Test Data: ', len(test_set))"
      ]
    },
    {
      "cell_type": "code",
      "execution_count": null,
      "metadata": {
        "id": "RBqzJanDU9jw"
      },
      "outputs": [],
      "source": [
        "bert_predict_result = get_predict_result(\n",
        "    data_loader=test_loader,\n",
        "    data_df=test_data_df,\n",
        "    model=model, \n",
        "    device=device\n",
        ")"
      ]
    },
    {
      "cell_type": "code",
      "execution_count": null,
      "metadata": {
        "id": "lhHw8onxWQAC"
      },
      "outputs": [],
      "source": [
        "bm25_predict_result = {int(key):{} for key in test_data_df['query_id'].to_numpy()}\n",
        "\n",
        "for i in range(len(test_data_df)):\n",
        "    row = test_data_df.iloc[i]\n",
        "    query_id = int(row['query_id'])\n",
        "    bm25_top_1000_doc_ID = row['bm25_top1000_docs'].split()\n",
        "    bm25_top_1000_doc_Score = row['bm25_top1000_scores'].split()\n",
        "    \n",
        "    for i in range(len(bm25_top_1000_doc_ID)):\n",
        "        score = float(bm25_top_1000_doc_Score[i])\n",
        "        if np.isnan(score):\n",
        "            bm25_predict_result[query_id][bm25_top_1000_doc_ID[i]] = 0\n",
        "        else:\n",
        "            bm25_predict_result[query_id][bm25_top_1000_doc_ID[i]] = score\n",
        "    \n",
        "print('Num BM25 Results: ', len(bm25_predict_result))"
      ]
    },
    {
      "cell_type": "code",
      "execution_count": null,
      "metadata": {
        "id": "CcV4DTTbWgK0"
      },
      "outputs": [],
      "source": [
        "combined_prediction = get_ranking_result(4.25, bm25_predict_result, bert_predict_result)\n",
        "type(combined_prediction)\n",
        "list(combined_prediction.items())"
      ]
    },
    {
      "cell_type": "code",
      "execution_count": null,
      "metadata": {
        "id": "fGyZb3oCBdo5"
      },
      "outputs": [],
      "source": [
        "str_list = []\n",
        "for i, j in combined_prediction.items():\n",
        "  s = \"\"\n",
        "  s = s + str(i) + \",\"\n",
        "  for d in j:\n",
        "    s = s + d + \" \"\n",
        "  str_list.append(s)\n",
        "str_list"
      ]
    },
    {
      "cell_type": "code",
      "execution_count": null,
      "metadata": {
        "id": "kqgS2Jo8GAdu"
      },
      "outputs": [],
      "source": [
        "out_path = \"/content/drive/MyDrive/IR_hw6/submission.csv\"\n",
        "f = open(out_path, \"w\")\n",
        "f.write(\"Query,RetrievedDocuments\\n\")\n",
        "for str1 in str_list:\n",
        "    f.write(str1[:-1])\n",
        "    f.write(\"\\n\")"
      ]
    }
  ],
  "metadata": {
    "accelerator": "GPU",
    "colab": {
      "collapsed_sections": [],
      "name": "BERT-挖空版Baseline.ipynb",
      "provenance": []
    },
    "kernelspec": {
      "display_name": "Python 3",
      "language": "python",
      "name": "python3"
    },
    "language_info": {
      "codemirror_mode": {
        "name": "ipython",
        "version": 3
      },
      "file_extension": ".py",
      "mimetype": "text/x-python",
      "name": "python",
      "nbconvert_exporter": "python",
      "pygments_lexer": "ipython3",
      "version": "3.8.10"
    },
    "widgets": {
      "application/vnd.jupyter.widget-state+json": {
        "0a45ef62b2c146c284178e75001ed6d1": {
          "model_module": "@jupyter-widgets/base",
          "model_module_version": "1.2.0",
          "model_name": "LayoutModel",
          "state": {
            "_model_module": "@jupyter-widgets/base",
            "_model_module_version": "1.2.0",
            "_model_name": "LayoutModel",
            "_view_count": null,
            "_view_module": "@jupyter-widgets/base",
            "_view_module_version": "1.2.0",
            "_view_name": "LayoutView",
            "align_content": null,
            "align_items": null,
            "align_self": null,
            "border": null,
            "bottom": null,
            "display": null,
            "flex": null,
            "flex_flow": null,
            "grid_area": null,
            "grid_auto_columns": null,
            "grid_auto_flow": null,
            "grid_auto_rows": null,
            "grid_column": null,
            "grid_gap": null,
            "grid_row": null,
            "grid_template_areas": null,
            "grid_template_columns": null,
            "grid_template_rows": null,
            "height": null,
            "justify_content": null,
            "justify_items": null,
            "left": null,
            "margin": null,
            "max_height": null,
            "max_width": null,
            "min_height": null,
            "min_width": null,
            "object_fit": null,
            "object_position": null,
            "order": null,
            "overflow": null,
            "overflow_x": null,
            "overflow_y": null,
            "padding": null,
            "right": null,
            "top": null,
            "visibility": null,
            "width": null
          }
        },
        "1137bf0561484861b5d5381faf11fa58": {
          "model_module": "@jupyter-widgets/controls",
          "model_module_version": "1.5.0",
          "model_name": "HTMLModel",
          "state": {
            "_dom_classes": [],
            "_model_module": "@jupyter-widgets/controls",
            "_model_module_version": "1.5.0",
            "_model_name": "HTMLModel",
            "_view_count": null,
            "_view_module": "@jupyter-widgets/controls",
            "_view_module_version": "1.5.0",
            "_view_name": "HTMLView",
            "description": "",
            "description_tooltip": null,
            "layout": "IPY_MODEL_c16db0b96b744bfdbe67c47a4b98dd40",
            "placeholder": "​",
            "style": "IPY_MODEL_d1203f94efdb45dca3a0684e902c4211",
            "value": " 455k/455k [00:00&lt;00:00, 707kB/s]"
          }
        },
        "1909fee7230c460c8e0cbf1af18aa0d9": {
          "model_module": "@jupyter-widgets/controls",
          "model_module_version": "1.5.0",
          "model_name": "DescriptionStyleModel",
          "state": {
            "_model_module": "@jupyter-widgets/controls",
            "_model_module_version": "1.5.0",
            "_model_name": "DescriptionStyleModel",
            "_view_count": null,
            "_view_module": "@jupyter-widgets/base",
            "_view_module_version": "1.2.0",
            "_view_name": "StyleView",
            "description_width": ""
          }
        },
        "19f2a96167d441ceb881cccfaea6dd83": {
          "model_module": "@jupyter-widgets/controls",
          "model_module_version": "1.5.0",
          "model_name": "DescriptionStyleModel",
          "state": {
            "_model_module": "@jupyter-widgets/controls",
            "_model_module_version": "1.5.0",
            "_model_name": "DescriptionStyleModel",
            "_view_count": null,
            "_view_module": "@jupyter-widgets/base",
            "_view_module_version": "1.2.0",
            "_view_name": "StyleView",
            "description_width": ""
          }
        },
        "1c3b32c6131f43e7bfc142290c2d3676": {
          "model_module": "@jupyter-widgets/base",
          "model_module_version": "1.2.0",
          "model_name": "LayoutModel",
          "state": {
            "_model_module": "@jupyter-widgets/base",
            "_model_module_version": "1.2.0",
            "_model_name": "LayoutModel",
            "_view_count": null,
            "_view_module": "@jupyter-widgets/base",
            "_view_module_version": "1.2.0",
            "_view_name": "LayoutView",
            "align_content": null,
            "align_items": null,
            "align_self": null,
            "border": null,
            "bottom": null,
            "display": null,
            "flex": null,
            "flex_flow": null,
            "grid_area": null,
            "grid_auto_columns": null,
            "grid_auto_flow": null,
            "grid_auto_rows": null,
            "grid_column": null,
            "grid_gap": null,
            "grid_row": null,
            "grid_template_areas": null,
            "grid_template_columns": null,
            "grid_template_rows": null,
            "height": null,
            "justify_content": null,
            "justify_items": null,
            "left": null,
            "margin": null,
            "max_height": null,
            "max_width": null,
            "min_height": null,
            "min_width": null,
            "object_fit": null,
            "object_position": null,
            "order": null,
            "overflow": null,
            "overflow_x": null,
            "overflow_y": null,
            "padding": null,
            "right": null,
            "top": null,
            "visibility": null,
            "width": null
          }
        },
        "1ffe160b47fc492ca257965cc9edcc14": {
          "model_module": "@jupyter-widgets/controls",
          "model_module_version": "1.5.0",
          "model_name": "ProgressStyleModel",
          "state": {
            "_model_module": "@jupyter-widgets/controls",
            "_model_module_version": "1.5.0",
            "_model_name": "ProgressStyleModel",
            "_view_count": null,
            "_view_module": "@jupyter-widgets/base",
            "_view_module_version": "1.2.0",
            "_view_name": "StyleView",
            "bar_color": null,
            "description_width": ""
          }
        },
        "20f2ad9d2e224b1eb3b90df05b5acbfa": {
          "model_module": "@jupyter-widgets/controls",
          "model_module_version": "1.5.0",
          "model_name": "HBoxModel",
          "state": {
            "_dom_classes": [],
            "_model_module": "@jupyter-widgets/controls",
            "_model_module_version": "1.5.0",
            "_model_name": "HBoxModel",
            "_view_count": null,
            "_view_module": "@jupyter-widgets/controls",
            "_view_module_version": "1.5.0",
            "_view_name": "HBoxView",
            "box_style": "",
            "children": [
              "IPY_MODEL_58ed4ccd6f1d4ebbbe3dce1503b5645d",
              "IPY_MODEL_e994c90c5b80454db70125777387b2b1",
              "IPY_MODEL_bd5170ca87dc4956ac85709081263245"
            ],
            "layout": "IPY_MODEL_d1f2b6a5bd994062b29c94bf15872db9"
          }
        },
        "29df3def2dc74a529a536b5a48ad11e7": {
          "model_module": "@jupyter-widgets/base",
          "model_module_version": "1.2.0",
          "model_name": "LayoutModel",
          "state": {
            "_model_module": "@jupyter-widgets/base",
            "_model_module_version": "1.2.0",
            "_model_name": "LayoutModel",
            "_view_count": null,
            "_view_module": "@jupyter-widgets/base",
            "_view_module_version": "1.2.0",
            "_view_name": "LayoutView",
            "align_content": null,
            "align_items": null,
            "align_self": null,
            "border": null,
            "bottom": null,
            "display": null,
            "flex": null,
            "flex_flow": null,
            "grid_area": null,
            "grid_auto_columns": null,
            "grid_auto_flow": null,
            "grid_auto_rows": null,
            "grid_column": null,
            "grid_gap": null,
            "grid_row": null,
            "grid_template_areas": null,
            "grid_template_columns": null,
            "grid_template_rows": null,
            "height": null,
            "justify_content": null,
            "justify_items": null,
            "left": null,
            "margin": null,
            "max_height": null,
            "max_width": null,
            "min_height": null,
            "min_width": null,
            "object_fit": null,
            "object_position": null,
            "order": null,
            "overflow": null,
            "overflow_x": null,
            "overflow_y": null,
            "padding": null,
            "right": null,
            "top": null,
            "visibility": null,
            "width": null
          }
        },
        "2ce835ee25d8409d8436f644205a0357": {
          "model_module": "@jupyter-widgets/base",
          "model_module_version": "1.2.0",
          "model_name": "LayoutModel",
          "state": {
            "_model_module": "@jupyter-widgets/base",
            "_model_module_version": "1.2.0",
            "_model_name": "LayoutModel",
            "_view_count": null,
            "_view_module": "@jupyter-widgets/base",
            "_view_module_version": "1.2.0",
            "_view_name": "LayoutView",
            "align_content": null,
            "align_items": null,
            "align_self": null,
            "border": null,
            "bottom": null,
            "display": null,
            "flex": null,
            "flex_flow": null,
            "grid_area": null,
            "grid_auto_columns": null,
            "grid_auto_flow": null,
            "grid_auto_rows": null,
            "grid_column": null,
            "grid_gap": null,
            "grid_row": null,
            "grid_template_areas": null,
            "grid_template_columns": null,
            "grid_template_rows": null,
            "height": null,
            "justify_content": null,
            "justify_items": null,
            "left": null,
            "margin": null,
            "max_height": null,
            "max_width": null,
            "min_height": null,
            "min_width": null,
            "object_fit": null,
            "object_position": null,
            "order": null,
            "overflow": null,
            "overflow_x": null,
            "overflow_y": null,
            "padding": null,
            "right": null,
            "top": null,
            "visibility": null,
            "width": null
          }
        },
        "326fe00534f042be8b4f40b8c3f29ff7": {
          "model_module": "@jupyter-widgets/controls",
          "model_module_version": "1.5.0",
          "model_name": "DescriptionStyleModel",
          "state": {
            "_model_module": "@jupyter-widgets/controls",
            "_model_module_version": "1.5.0",
            "_model_name": "DescriptionStyleModel",
            "_view_count": null,
            "_view_module": "@jupyter-widgets/base",
            "_view_module_version": "1.2.0",
            "_view_name": "StyleView",
            "description_width": ""
          }
        },
        "33e0543acbf34cceb7b59de287ff8a82": {
          "model_module": "@jupyter-widgets/controls",
          "model_module_version": "1.5.0",
          "model_name": "HBoxModel",
          "state": {
            "_dom_classes": [],
            "_model_module": "@jupyter-widgets/controls",
            "_model_module_version": "1.5.0",
            "_model_name": "HBoxModel",
            "_view_count": null,
            "_view_module": "@jupyter-widgets/controls",
            "_view_module_version": "1.5.0",
            "_view_name": "HBoxView",
            "box_style": "",
            "children": [
              "IPY_MODEL_9182169fa63d4f21a701092ca6414075",
              "IPY_MODEL_9580ba74ff7d4f70967afd58435f98d5",
              "IPY_MODEL_6e29d37a9a02478a89e220209f37a5e5"
            ],
            "layout": "IPY_MODEL_618b8ef208d84c1ca872b0b079367fcc"
          }
        },
        "40c016ebc2e34dd680c9292fd74db0d0": {
          "model_module": "@jupyter-widgets/base",
          "model_module_version": "1.2.0",
          "model_name": "LayoutModel",
          "state": {
            "_model_module": "@jupyter-widgets/base",
            "_model_module_version": "1.2.0",
            "_model_name": "LayoutModel",
            "_view_count": null,
            "_view_module": "@jupyter-widgets/base",
            "_view_module_version": "1.2.0",
            "_view_name": "LayoutView",
            "align_content": null,
            "align_items": null,
            "align_self": null,
            "border": null,
            "bottom": null,
            "display": null,
            "flex": null,
            "flex_flow": null,
            "grid_area": null,
            "grid_auto_columns": null,
            "grid_auto_flow": null,
            "grid_auto_rows": null,
            "grid_column": null,
            "grid_gap": null,
            "grid_row": null,
            "grid_template_areas": null,
            "grid_template_columns": null,
            "grid_template_rows": null,
            "height": null,
            "justify_content": null,
            "justify_items": null,
            "left": null,
            "margin": null,
            "max_height": null,
            "max_width": null,
            "min_height": null,
            "min_width": null,
            "object_fit": null,
            "object_position": null,
            "order": null,
            "overflow": null,
            "overflow_x": null,
            "overflow_y": null,
            "padding": null,
            "right": null,
            "top": null,
            "visibility": null,
            "width": null
          }
        },
        "40cedf6c595149839e66240052f37f7f": {
          "model_module": "@jupyter-widgets/controls",
          "model_module_version": "1.5.0",
          "model_name": "ProgressStyleModel",
          "state": {
            "_model_module": "@jupyter-widgets/controls",
            "_model_module_version": "1.5.0",
            "_model_name": "ProgressStyleModel",
            "_view_count": null,
            "_view_module": "@jupyter-widgets/base",
            "_view_module_version": "1.2.0",
            "_view_name": "StyleView",
            "bar_color": null,
            "description_width": ""
          }
        },
        "42fa851ead4b437989effae1e08a0294": {
          "model_module": "@jupyter-widgets/controls",
          "model_module_version": "1.5.0",
          "model_name": "DescriptionStyleModel",
          "state": {
            "_model_module": "@jupyter-widgets/controls",
            "_model_module_version": "1.5.0",
            "_model_name": "DescriptionStyleModel",
            "_view_count": null,
            "_view_module": "@jupyter-widgets/base",
            "_view_module_version": "1.2.0",
            "_view_name": "StyleView",
            "description_width": ""
          }
        },
        "473630c3660f4e66ae99b9b81121a5c2": {
          "model_module": "@jupyter-widgets/base",
          "model_module_version": "1.2.0",
          "model_name": "LayoutModel",
          "state": {
            "_model_module": "@jupyter-widgets/base",
            "_model_module_version": "1.2.0",
            "_model_name": "LayoutModel",
            "_view_count": null,
            "_view_module": "@jupyter-widgets/base",
            "_view_module_version": "1.2.0",
            "_view_name": "LayoutView",
            "align_content": null,
            "align_items": null,
            "align_self": null,
            "border": null,
            "bottom": null,
            "display": null,
            "flex": null,
            "flex_flow": null,
            "grid_area": null,
            "grid_auto_columns": null,
            "grid_auto_flow": null,
            "grid_auto_rows": null,
            "grid_column": null,
            "grid_gap": null,
            "grid_row": null,
            "grid_template_areas": null,
            "grid_template_columns": null,
            "grid_template_rows": null,
            "height": null,
            "justify_content": null,
            "justify_items": null,
            "left": null,
            "margin": null,
            "max_height": null,
            "max_width": null,
            "min_height": null,
            "min_width": null,
            "object_fit": null,
            "object_position": null,
            "order": null,
            "overflow": null,
            "overflow_x": null,
            "overflow_y": null,
            "padding": null,
            "right": null,
            "top": null,
            "visibility": null,
            "width": null
          }
        },
        "5530c1bd724b433fb53b6d1644b66898": {
          "model_module": "@jupyter-widgets/controls",
          "model_module_version": "1.5.0",
          "model_name": "HTMLModel",
          "state": {
            "_dom_classes": [],
            "_model_module": "@jupyter-widgets/controls",
            "_model_module_version": "1.5.0",
            "_model_name": "HTMLModel",
            "_view_count": null,
            "_view_module": "@jupyter-widgets/controls",
            "_view_module_version": "1.5.0",
            "_view_name": "HTMLView",
            "description": "",
            "description_tooltip": null,
            "layout": "IPY_MODEL_bbe074c34aab4651abe915068ccf8d33",
            "placeholder": "​",
            "style": "IPY_MODEL_6e11f448aebb4c50b1af4bc90894b292",
            "value": " 226k/226k [00:00&lt;00:00, 651kB/s]"
          }
        },
        "58ed4ccd6f1d4ebbbe3dce1503b5645d": {
          "model_module": "@jupyter-widgets/controls",
          "model_module_version": "1.5.0",
          "model_name": "HTMLModel",
          "state": {
            "_dom_classes": [],
            "_model_module": "@jupyter-widgets/controls",
            "_model_module_version": "1.5.0",
            "_model_name": "HTMLModel",
            "_view_count": null,
            "_view_module": "@jupyter-widgets/controls",
            "_view_module_version": "1.5.0",
            "_view_name": "HTMLView",
            "description": "",
            "description_tooltip": null,
            "layout": "IPY_MODEL_dc0b1399a3224c118ce2656f74fffcc6",
            "placeholder": "​",
            "style": "IPY_MODEL_19f2a96167d441ceb881cccfaea6dd83",
            "value": "Downloading: 100%"
          }
        },
        "5a0f5a8d89ec49a8be5d40c979206488": {
          "model_module": "@jupyter-widgets/controls",
          "model_module_version": "1.5.0",
          "model_name": "DescriptionStyleModel",
          "state": {
            "_model_module": "@jupyter-widgets/controls",
            "_model_module_version": "1.5.0",
            "_model_name": "DescriptionStyleModel",
            "_view_count": null,
            "_view_module": "@jupyter-widgets/base",
            "_view_module_version": "1.2.0",
            "_view_name": "StyleView",
            "description_width": ""
          }
        },
        "618b8ef208d84c1ca872b0b079367fcc": {
          "model_module": "@jupyter-widgets/base",
          "model_module_version": "1.2.0",
          "model_name": "LayoutModel",
          "state": {
            "_model_module": "@jupyter-widgets/base",
            "_model_module_version": "1.2.0",
            "_model_name": "LayoutModel",
            "_view_count": null,
            "_view_module": "@jupyter-widgets/base",
            "_view_module_version": "1.2.0",
            "_view_name": "LayoutView",
            "align_content": null,
            "align_items": null,
            "align_self": null,
            "border": null,
            "bottom": null,
            "display": null,
            "flex": null,
            "flex_flow": null,
            "grid_area": null,
            "grid_auto_columns": null,
            "grid_auto_flow": null,
            "grid_auto_rows": null,
            "grid_column": null,
            "grid_gap": null,
            "grid_row": null,
            "grid_template_areas": null,
            "grid_template_columns": null,
            "grid_template_rows": null,
            "height": null,
            "justify_content": null,
            "justify_items": null,
            "left": null,
            "margin": null,
            "max_height": null,
            "max_width": null,
            "min_height": null,
            "min_width": null,
            "object_fit": null,
            "object_position": null,
            "order": null,
            "overflow": null,
            "overflow_x": null,
            "overflow_y": null,
            "padding": null,
            "right": null,
            "top": null,
            "visibility": null,
            "width": null
          }
        },
        "621d9818976142999b1fc2c4905530c1": {
          "model_module": "@jupyter-widgets/controls",
          "model_module_version": "1.5.0",
          "model_name": "DescriptionStyleModel",
          "state": {
            "_model_module": "@jupyter-widgets/controls",
            "_model_module_version": "1.5.0",
            "_model_name": "DescriptionStyleModel",
            "_view_count": null,
            "_view_module": "@jupyter-widgets/base",
            "_view_module_version": "1.2.0",
            "_view_name": "StyleView",
            "description_width": ""
          }
        },
        "629840199a4847d8be60530aef975b5e": {
          "model_module": "@jupyter-widgets/controls",
          "model_module_version": "1.5.0",
          "model_name": "ProgressStyleModel",
          "state": {
            "_model_module": "@jupyter-widgets/controls",
            "_model_module_version": "1.5.0",
            "_model_name": "ProgressStyleModel",
            "_view_count": null,
            "_view_module": "@jupyter-widgets/base",
            "_view_module_version": "1.2.0",
            "_view_name": "StyleView",
            "bar_color": null,
            "description_width": ""
          }
        },
        "65136ee1600f4a0895b3331b39fe4adf": {
          "model_module": "@jupyter-widgets/controls",
          "model_module_version": "1.5.0",
          "model_name": "HBoxModel",
          "state": {
            "_dom_classes": [],
            "_model_module": "@jupyter-widgets/controls",
            "_model_module_version": "1.5.0",
            "_model_name": "HBoxModel",
            "_view_count": null,
            "_view_module": "@jupyter-widgets/controls",
            "_view_module_version": "1.5.0",
            "_view_name": "HBoxView",
            "box_style": "",
            "children": [
              "IPY_MODEL_82da66b42b044110819c807ac49b3870",
              "IPY_MODEL_fc2f6795ce3d4d77a36c510efabd051f",
              "IPY_MODEL_5530c1bd724b433fb53b6d1644b66898"
            ],
            "layout": "IPY_MODEL_681b456644914d6cbd31d8852b520062"
          }
        },
        "681b456644914d6cbd31d8852b520062": {
          "model_module": "@jupyter-widgets/base",
          "model_module_version": "1.2.0",
          "model_name": "LayoutModel",
          "state": {
            "_model_module": "@jupyter-widgets/base",
            "_model_module_version": "1.2.0",
            "_model_name": "LayoutModel",
            "_view_count": null,
            "_view_module": "@jupyter-widgets/base",
            "_view_module_version": "1.2.0",
            "_view_name": "LayoutView",
            "align_content": null,
            "align_items": null,
            "align_self": null,
            "border": null,
            "bottom": null,
            "display": null,
            "flex": null,
            "flex_flow": null,
            "grid_area": null,
            "grid_auto_columns": null,
            "grid_auto_flow": null,
            "grid_auto_rows": null,
            "grid_column": null,
            "grid_gap": null,
            "grid_row": null,
            "grid_template_areas": null,
            "grid_template_columns": null,
            "grid_template_rows": null,
            "height": null,
            "justify_content": null,
            "justify_items": null,
            "left": null,
            "margin": null,
            "max_height": null,
            "max_width": null,
            "min_height": null,
            "min_width": null,
            "object_fit": null,
            "object_position": null,
            "order": null,
            "overflow": null,
            "overflow_x": null,
            "overflow_y": null,
            "padding": null,
            "right": null,
            "top": null,
            "visibility": null,
            "width": null
          }
        },
        "6e11f448aebb4c50b1af4bc90894b292": {
          "model_module": "@jupyter-widgets/controls",
          "model_module_version": "1.5.0",
          "model_name": "DescriptionStyleModel",
          "state": {
            "_model_module": "@jupyter-widgets/controls",
            "_model_module_version": "1.5.0",
            "_model_name": "DescriptionStyleModel",
            "_view_count": null,
            "_view_module": "@jupyter-widgets/base",
            "_view_module_version": "1.2.0",
            "_view_name": "StyleView",
            "description_width": ""
          }
        },
        "6e29d37a9a02478a89e220209f37a5e5": {
          "model_module": "@jupyter-widgets/controls",
          "model_module_version": "1.5.0",
          "model_name": "HTMLModel",
          "state": {
            "_dom_classes": [],
            "_model_module": "@jupyter-widgets/controls",
            "_model_module_version": "1.5.0",
            "_model_name": "HTMLModel",
            "_view_count": null,
            "_view_module": "@jupyter-widgets/controls",
            "_view_module_version": "1.5.0",
            "_view_name": "HTMLView",
            "description": "",
            "description_tooltip": null,
            "layout": "IPY_MODEL_edd9e763749e4f1c8d64c2e688211ae8",
            "placeholder": "​",
            "style": "IPY_MODEL_5a0f5a8d89ec49a8be5d40c979206488",
            "value": " 28.0/28.0 [00:00&lt;00:00, 699B/s]"
          }
        },
        "8064201606134764af8b9a4ace51de1c": {
          "model_module": "@jupyter-widgets/controls",
          "model_module_version": "1.5.0",
          "model_name": "FloatProgressModel",
          "state": {
            "_dom_classes": [],
            "_model_module": "@jupyter-widgets/controls",
            "_model_module_version": "1.5.0",
            "_model_name": "FloatProgressModel",
            "_view_count": null,
            "_view_module": "@jupyter-widgets/controls",
            "_view_module_version": "1.5.0",
            "_view_name": "ProgressView",
            "bar_style": "success",
            "description": "",
            "description_tooltip": null,
            "layout": "IPY_MODEL_93e7293b9ba74efa93d1830308e68d2e",
            "max": 466062,
            "min": 0,
            "orientation": "horizontal",
            "style": "IPY_MODEL_8a8908bbe6004763b46e0658eae146d9",
            "value": 466062
          }
        },
        "82da66b42b044110819c807ac49b3870": {
          "model_module": "@jupyter-widgets/controls",
          "model_module_version": "1.5.0",
          "model_name": "HTMLModel",
          "state": {
            "_dom_classes": [],
            "_model_module": "@jupyter-widgets/controls",
            "_model_module_version": "1.5.0",
            "_model_name": "HTMLModel",
            "_view_count": null,
            "_view_module": "@jupyter-widgets/controls",
            "_view_module_version": "1.5.0",
            "_view_name": "HTMLView",
            "description": "",
            "description_tooltip": null,
            "layout": "IPY_MODEL_1c3b32c6131f43e7bfc142290c2d3676",
            "placeholder": "​",
            "style": "IPY_MODEL_42fa851ead4b437989effae1e08a0294",
            "value": "Downloading: 100%"
          }
        },
        "87d663e36544419fab45164df99999a5": {
          "model_module": "@jupyter-widgets/controls",
          "model_module_version": "1.5.0",
          "model_name": "HTMLModel",
          "state": {
            "_dom_classes": [],
            "_model_module": "@jupyter-widgets/controls",
            "_model_module_version": "1.5.0",
            "_model_name": "HTMLModel",
            "_view_count": null,
            "_view_module": "@jupyter-widgets/controls",
            "_view_module_version": "1.5.0",
            "_view_name": "HTMLView",
            "description": "",
            "description_tooltip": null,
            "layout": "IPY_MODEL_88d0a61a30e744f8b44aba8fa2727d26",
            "placeholder": "​",
            "style": "IPY_MODEL_a8b5a6e732c6480bb92619bacb3ced54",
            "value": " 570/570 [00:00&lt;00:00, 14.3kB/s]"
          }
        },
        "88d0a61a30e744f8b44aba8fa2727d26": {
          "model_module": "@jupyter-widgets/base",
          "model_module_version": "1.2.0",
          "model_name": "LayoutModel",
          "state": {
            "_model_module": "@jupyter-widgets/base",
            "_model_module_version": "1.2.0",
            "_model_name": "LayoutModel",
            "_view_count": null,
            "_view_module": "@jupyter-widgets/base",
            "_view_module_version": "1.2.0",
            "_view_name": "LayoutView",
            "align_content": null,
            "align_items": null,
            "align_self": null,
            "border": null,
            "bottom": null,
            "display": null,
            "flex": null,
            "flex_flow": null,
            "grid_area": null,
            "grid_auto_columns": null,
            "grid_auto_flow": null,
            "grid_auto_rows": null,
            "grid_column": null,
            "grid_gap": null,
            "grid_row": null,
            "grid_template_areas": null,
            "grid_template_columns": null,
            "grid_template_rows": null,
            "height": null,
            "justify_content": null,
            "justify_items": null,
            "left": null,
            "margin": null,
            "max_height": null,
            "max_width": null,
            "min_height": null,
            "min_width": null,
            "object_fit": null,
            "object_position": null,
            "order": null,
            "overflow": null,
            "overflow_x": null,
            "overflow_y": null,
            "padding": null,
            "right": null,
            "top": null,
            "visibility": null,
            "width": null
          }
        },
        "8a8908bbe6004763b46e0658eae146d9": {
          "model_module": "@jupyter-widgets/controls",
          "model_module_version": "1.5.0",
          "model_name": "ProgressStyleModel",
          "state": {
            "_model_module": "@jupyter-widgets/controls",
            "_model_module_version": "1.5.0",
            "_model_name": "ProgressStyleModel",
            "_view_count": null,
            "_view_module": "@jupyter-widgets/base",
            "_view_module_version": "1.2.0",
            "_view_name": "StyleView",
            "bar_color": null,
            "description_width": ""
          }
        },
        "9182169fa63d4f21a701092ca6414075": {
          "model_module": "@jupyter-widgets/controls",
          "model_module_version": "1.5.0",
          "model_name": "HTMLModel",
          "state": {
            "_dom_classes": [],
            "_model_module": "@jupyter-widgets/controls",
            "_model_module_version": "1.5.0",
            "_model_name": "HTMLModel",
            "_view_count": null,
            "_view_module": "@jupyter-widgets/controls",
            "_view_module_version": "1.5.0",
            "_view_name": "HTMLView",
            "description": "",
            "description_tooltip": null,
            "layout": "IPY_MODEL_c626a46cac324065b98b153a31cd3c60",
            "placeholder": "​",
            "style": "IPY_MODEL_e37ebb32e0504aee92afbd0ae59e3f50",
            "value": "Downloading: 100%"
          }
        },
        "93e7293b9ba74efa93d1830308e68d2e": {
          "model_module": "@jupyter-widgets/base",
          "model_module_version": "1.2.0",
          "model_name": "LayoutModel",
          "state": {
            "_model_module": "@jupyter-widgets/base",
            "_model_module_version": "1.2.0",
            "_model_name": "LayoutModel",
            "_view_count": null,
            "_view_module": "@jupyter-widgets/base",
            "_view_module_version": "1.2.0",
            "_view_name": "LayoutView",
            "align_content": null,
            "align_items": null,
            "align_self": null,
            "border": null,
            "bottom": null,
            "display": null,
            "flex": null,
            "flex_flow": null,
            "grid_area": null,
            "grid_auto_columns": null,
            "grid_auto_flow": null,
            "grid_auto_rows": null,
            "grid_column": null,
            "grid_gap": null,
            "grid_row": null,
            "grid_template_areas": null,
            "grid_template_columns": null,
            "grid_template_rows": null,
            "height": null,
            "justify_content": null,
            "justify_items": null,
            "left": null,
            "margin": null,
            "max_height": null,
            "max_width": null,
            "min_height": null,
            "min_width": null,
            "object_fit": null,
            "object_position": null,
            "order": null,
            "overflow": null,
            "overflow_x": null,
            "overflow_y": null,
            "padding": null,
            "right": null,
            "top": null,
            "visibility": null,
            "width": null
          }
        },
        "9580ba74ff7d4f70967afd58435f98d5": {
          "model_module": "@jupyter-widgets/controls",
          "model_module_version": "1.5.0",
          "model_name": "FloatProgressModel",
          "state": {
            "_dom_classes": [],
            "_model_module": "@jupyter-widgets/controls",
            "_model_module_version": "1.5.0",
            "_model_name": "FloatProgressModel",
            "_view_count": null,
            "_view_module": "@jupyter-widgets/controls",
            "_view_module_version": "1.5.0",
            "_view_name": "ProgressView",
            "bar_style": "success",
            "description": "",
            "description_tooltip": null,
            "layout": "IPY_MODEL_473630c3660f4e66ae99b9b81121a5c2",
            "max": 28,
            "min": 0,
            "orientation": "horizontal",
            "style": "IPY_MODEL_a04302ec4dbf407e9760de9ceeb9d43e",
            "value": 28
          }
        },
        "a04302ec4dbf407e9760de9ceeb9d43e": {
          "model_module": "@jupyter-widgets/controls",
          "model_module_version": "1.5.0",
          "model_name": "ProgressStyleModel",
          "state": {
            "_model_module": "@jupyter-widgets/controls",
            "_model_module_version": "1.5.0",
            "_model_name": "ProgressStyleModel",
            "_view_count": null,
            "_view_module": "@jupyter-widgets/base",
            "_view_module_version": "1.2.0",
            "_view_name": "StyleView",
            "bar_color": null,
            "description_width": ""
          }
        },
        "a4d31012bfdb454baf7ba92c58bef70d": {
          "model_module": "@jupyter-widgets/controls",
          "model_module_version": "1.5.0",
          "model_name": "HBoxModel",
          "state": {
            "_dom_classes": [],
            "_model_module": "@jupyter-widgets/controls",
            "_model_module_version": "1.5.0",
            "_model_name": "HBoxModel",
            "_view_count": null,
            "_view_module": "@jupyter-widgets/controls",
            "_view_module_version": "1.5.0",
            "_view_name": "HBoxView",
            "box_style": "",
            "children": [
              "IPY_MODEL_e664b5c01e8743249229e285134e3444",
              "IPY_MODEL_8064201606134764af8b9a4ace51de1c",
              "IPY_MODEL_1137bf0561484861b5d5381faf11fa58"
            ],
            "layout": "IPY_MODEL_2ce835ee25d8409d8436f644205a0357"
          }
        },
        "a519aaab64b24351b0dac9e5774999cb": {
          "model_module": "@jupyter-widgets/base",
          "model_module_version": "1.2.0",
          "model_name": "LayoutModel",
          "state": {
            "_model_module": "@jupyter-widgets/base",
            "_model_module_version": "1.2.0",
            "_model_name": "LayoutModel",
            "_view_count": null,
            "_view_module": "@jupyter-widgets/base",
            "_view_module_version": "1.2.0",
            "_view_name": "LayoutView",
            "align_content": null,
            "align_items": null,
            "align_self": null,
            "border": null,
            "bottom": null,
            "display": null,
            "flex": null,
            "flex_flow": null,
            "grid_area": null,
            "grid_auto_columns": null,
            "grid_auto_flow": null,
            "grid_auto_rows": null,
            "grid_column": null,
            "grid_gap": null,
            "grid_row": null,
            "grid_template_areas": null,
            "grid_template_columns": null,
            "grid_template_rows": null,
            "height": null,
            "justify_content": null,
            "justify_items": null,
            "left": null,
            "margin": null,
            "max_height": null,
            "max_width": null,
            "min_height": null,
            "min_width": null,
            "object_fit": null,
            "object_position": null,
            "order": null,
            "overflow": null,
            "overflow_x": null,
            "overflow_y": null,
            "padding": null,
            "right": null,
            "top": null,
            "visibility": null,
            "width": null
          }
        },
        "a8b5a6e732c6480bb92619bacb3ced54": {
          "model_module": "@jupyter-widgets/controls",
          "model_module_version": "1.5.0",
          "model_name": "DescriptionStyleModel",
          "state": {
            "_model_module": "@jupyter-widgets/controls",
            "_model_module_version": "1.5.0",
            "_model_name": "DescriptionStyleModel",
            "_view_count": null,
            "_view_module": "@jupyter-widgets/base",
            "_view_module_version": "1.2.0",
            "_view_name": "StyleView",
            "description_width": ""
          }
        },
        "aa0c24be86c24820a1a88f32380e4664": {
          "model_module": "@jupyter-widgets/base",
          "model_module_version": "1.2.0",
          "model_name": "LayoutModel",
          "state": {
            "_model_module": "@jupyter-widgets/base",
            "_model_module_version": "1.2.0",
            "_model_name": "LayoutModel",
            "_view_count": null,
            "_view_module": "@jupyter-widgets/base",
            "_view_module_version": "1.2.0",
            "_view_name": "LayoutView",
            "align_content": null,
            "align_items": null,
            "align_self": null,
            "border": null,
            "bottom": null,
            "display": null,
            "flex": null,
            "flex_flow": null,
            "grid_area": null,
            "grid_auto_columns": null,
            "grid_auto_flow": null,
            "grid_auto_rows": null,
            "grid_column": null,
            "grid_gap": null,
            "grid_row": null,
            "grid_template_areas": null,
            "grid_template_columns": null,
            "grid_template_rows": null,
            "height": null,
            "justify_content": null,
            "justify_items": null,
            "left": null,
            "margin": null,
            "max_height": null,
            "max_width": null,
            "min_height": null,
            "min_width": null,
            "object_fit": null,
            "object_position": null,
            "order": null,
            "overflow": null,
            "overflow_x": null,
            "overflow_y": null,
            "padding": null,
            "right": null,
            "top": null,
            "visibility": null,
            "width": null
          }
        },
        "ae76bf52553e41499dc441850961645a": {
          "model_module": "@jupyter-widgets/controls",
          "model_module_version": "1.5.0",
          "model_name": "HBoxModel",
          "state": {
            "_dom_classes": [],
            "_model_module": "@jupyter-widgets/controls",
            "_model_module_version": "1.5.0",
            "_model_name": "HBoxModel",
            "_view_count": null,
            "_view_module": "@jupyter-widgets/controls",
            "_view_module_version": "1.5.0",
            "_view_name": "HBoxView",
            "box_style": "",
            "children": [
              "IPY_MODEL_ff443b9975b1408fa6078c3679a38089",
              "IPY_MODEL_d5b5304a0017407da0d5b5c1dd7d0a3d",
              "IPY_MODEL_87d663e36544419fab45164df99999a5"
            ],
            "layout": "IPY_MODEL_29df3def2dc74a529a536b5a48ad11e7"
          }
        },
        "bbe074c34aab4651abe915068ccf8d33": {
          "model_module": "@jupyter-widgets/base",
          "model_module_version": "1.2.0",
          "model_name": "LayoutModel",
          "state": {
            "_model_module": "@jupyter-widgets/base",
            "_model_module_version": "1.2.0",
            "_model_name": "LayoutModel",
            "_view_count": null,
            "_view_module": "@jupyter-widgets/base",
            "_view_module_version": "1.2.0",
            "_view_name": "LayoutView",
            "align_content": null,
            "align_items": null,
            "align_self": null,
            "border": null,
            "bottom": null,
            "display": null,
            "flex": null,
            "flex_flow": null,
            "grid_area": null,
            "grid_auto_columns": null,
            "grid_auto_flow": null,
            "grid_auto_rows": null,
            "grid_column": null,
            "grid_gap": null,
            "grid_row": null,
            "grid_template_areas": null,
            "grid_template_columns": null,
            "grid_template_rows": null,
            "height": null,
            "justify_content": null,
            "justify_items": null,
            "left": null,
            "margin": null,
            "max_height": null,
            "max_width": null,
            "min_height": null,
            "min_width": null,
            "object_fit": null,
            "object_position": null,
            "order": null,
            "overflow": null,
            "overflow_x": null,
            "overflow_y": null,
            "padding": null,
            "right": null,
            "top": null,
            "visibility": null,
            "width": null
          }
        },
        "bd5170ca87dc4956ac85709081263245": {
          "model_module": "@jupyter-widgets/controls",
          "model_module_version": "1.5.0",
          "model_name": "HTMLModel",
          "state": {
            "_dom_classes": [],
            "_model_module": "@jupyter-widgets/controls",
            "_model_module_version": "1.5.0",
            "_model_name": "HTMLModel",
            "_view_count": null,
            "_view_module": "@jupyter-widgets/controls",
            "_view_module_version": "1.5.0",
            "_view_name": "HTMLView",
            "description": "",
            "description_tooltip": null,
            "layout": "IPY_MODEL_cff40f2ffcb4416ab210bd1e3e482bcc",
            "placeholder": "​",
            "style": "IPY_MODEL_326fe00534f042be8b4f40b8c3f29ff7",
            "value": " 420M/420M [00:26&lt;00:00, 14.3MB/s]"
          }
        },
        "c16db0b96b744bfdbe67c47a4b98dd40": {
          "model_module": "@jupyter-widgets/base",
          "model_module_version": "1.2.0",
          "model_name": "LayoutModel",
          "state": {
            "_model_module": "@jupyter-widgets/base",
            "_model_module_version": "1.2.0",
            "_model_name": "LayoutModel",
            "_view_count": null,
            "_view_module": "@jupyter-widgets/base",
            "_view_module_version": "1.2.0",
            "_view_name": "LayoutView",
            "align_content": null,
            "align_items": null,
            "align_self": null,
            "border": null,
            "bottom": null,
            "display": null,
            "flex": null,
            "flex_flow": null,
            "grid_area": null,
            "grid_auto_columns": null,
            "grid_auto_flow": null,
            "grid_auto_rows": null,
            "grid_column": null,
            "grid_gap": null,
            "grid_row": null,
            "grid_template_areas": null,
            "grid_template_columns": null,
            "grid_template_rows": null,
            "height": null,
            "justify_content": null,
            "justify_items": null,
            "left": null,
            "margin": null,
            "max_height": null,
            "max_width": null,
            "min_height": null,
            "min_width": null,
            "object_fit": null,
            "object_position": null,
            "order": null,
            "overflow": null,
            "overflow_x": null,
            "overflow_y": null,
            "padding": null,
            "right": null,
            "top": null,
            "visibility": null,
            "width": null
          }
        },
        "c626a46cac324065b98b153a31cd3c60": {
          "model_module": "@jupyter-widgets/base",
          "model_module_version": "1.2.0",
          "model_name": "LayoutModel",
          "state": {
            "_model_module": "@jupyter-widgets/base",
            "_model_module_version": "1.2.0",
            "_model_name": "LayoutModel",
            "_view_count": null,
            "_view_module": "@jupyter-widgets/base",
            "_view_module_version": "1.2.0",
            "_view_name": "LayoutView",
            "align_content": null,
            "align_items": null,
            "align_self": null,
            "border": null,
            "bottom": null,
            "display": null,
            "flex": null,
            "flex_flow": null,
            "grid_area": null,
            "grid_auto_columns": null,
            "grid_auto_flow": null,
            "grid_auto_rows": null,
            "grid_column": null,
            "grid_gap": null,
            "grid_row": null,
            "grid_template_areas": null,
            "grid_template_columns": null,
            "grid_template_rows": null,
            "height": null,
            "justify_content": null,
            "justify_items": null,
            "left": null,
            "margin": null,
            "max_height": null,
            "max_width": null,
            "min_height": null,
            "min_width": null,
            "object_fit": null,
            "object_position": null,
            "order": null,
            "overflow": null,
            "overflow_x": null,
            "overflow_y": null,
            "padding": null,
            "right": null,
            "top": null,
            "visibility": null,
            "width": null
          }
        },
        "cff40f2ffcb4416ab210bd1e3e482bcc": {
          "model_module": "@jupyter-widgets/base",
          "model_module_version": "1.2.0",
          "model_name": "LayoutModel",
          "state": {
            "_model_module": "@jupyter-widgets/base",
            "_model_module_version": "1.2.0",
            "_model_name": "LayoutModel",
            "_view_count": null,
            "_view_module": "@jupyter-widgets/base",
            "_view_module_version": "1.2.0",
            "_view_name": "LayoutView",
            "align_content": null,
            "align_items": null,
            "align_self": null,
            "border": null,
            "bottom": null,
            "display": null,
            "flex": null,
            "flex_flow": null,
            "grid_area": null,
            "grid_auto_columns": null,
            "grid_auto_flow": null,
            "grid_auto_rows": null,
            "grid_column": null,
            "grid_gap": null,
            "grid_row": null,
            "grid_template_areas": null,
            "grid_template_columns": null,
            "grid_template_rows": null,
            "height": null,
            "justify_content": null,
            "justify_items": null,
            "left": null,
            "margin": null,
            "max_height": null,
            "max_width": null,
            "min_height": null,
            "min_width": null,
            "object_fit": null,
            "object_position": null,
            "order": null,
            "overflow": null,
            "overflow_x": null,
            "overflow_y": null,
            "padding": null,
            "right": null,
            "top": null,
            "visibility": null,
            "width": null
          }
        },
        "d1203f94efdb45dca3a0684e902c4211": {
          "model_module": "@jupyter-widgets/controls",
          "model_module_version": "1.5.0",
          "model_name": "DescriptionStyleModel",
          "state": {
            "_model_module": "@jupyter-widgets/controls",
            "_model_module_version": "1.5.0",
            "_model_name": "DescriptionStyleModel",
            "_view_count": null,
            "_view_module": "@jupyter-widgets/base",
            "_view_module_version": "1.2.0",
            "_view_name": "StyleView",
            "description_width": ""
          }
        },
        "d1f2b6a5bd994062b29c94bf15872db9": {
          "model_module": "@jupyter-widgets/base",
          "model_module_version": "1.2.0",
          "model_name": "LayoutModel",
          "state": {
            "_model_module": "@jupyter-widgets/base",
            "_model_module_version": "1.2.0",
            "_model_name": "LayoutModel",
            "_view_count": null,
            "_view_module": "@jupyter-widgets/base",
            "_view_module_version": "1.2.0",
            "_view_name": "LayoutView",
            "align_content": null,
            "align_items": null,
            "align_self": null,
            "border": null,
            "bottom": null,
            "display": null,
            "flex": null,
            "flex_flow": null,
            "grid_area": null,
            "grid_auto_columns": null,
            "grid_auto_flow": null,
            "grid_auto_rows": null,
            "grid_column": null,
            "grid_gap": null,
            "grid_row": null,
            "grid_template_areas": null,
            "grid_template_columns": null,
            "grid_template_rows": null,
            "height": null,
            "justify_content": null,
            "justify_items": null,
            "left": null,
            "margin": null,
            "max_height": null,
            "max_width": null,
            "min_height": null,
            "min_width": null,
            "object_fit": null,
            "object_position": null,
            "order": null,
            "overflow": null,
            "overflow_x": null,
            "overflow_y": null,
            "padding": null,
            "right": null,
            "top": null,
            "visibility": null,
            "width": null
          }
        },
        "d5b5304a0017407da0d5b5c1dd7d0a3d": {
          "model_module": "@jupyter-widgets/controls",
          "model_module_version": "1.5.0",
          "model_name": "FloatProgressModel",
          "state": {
            "_dom_classes": [],
            "_model_module": "@jupyter-widgets/controls",
            "_model_module_version": "1.5.0",
            "_model_name": "FloatProgressModel",
            "_view_count": null,
            "_view_module": "@jupyter-widgets/controls",
            "_view_module_version": "1.5.0",
            "_view_name": "ProgressView",
            "bar_style": "success",
            "description": "",
            "description_tooltip": null,
            "layout": "IPY_MODEL_40c016ebc2e34dd680c9292fd74db0d0",
            "max": 570,
            "min": 0,
            "orientation": "horizontal",
            "style": "IPY_MODEL_40cedf6c595149839e66240052f37f7f",
            "value": 570
          }
        },
        "dc0b1399a3224c118ce2656f74fffcc6": {
          "model_module": "@jupyter-widgets/base",
          "model_module_version": "1.2.0",
          "model_name": "LayoutModel",
          "state": {
            "_model_module": "@jupyter-widgets/base",
            "_model_module_version": "1.2.0",
            "_model_name": "LayoutModel",
            "_view_count": null,
            "_view_module": "@jupyter-widgets/base",
            "_view_module_version": "1.2.0",
            "_view_name": "LayoutView",
            "align_content": null,
            "align_items": null,
            "align_self": null,
            "border": null,
            "bottom": null,
            "display": null,
            "flex": null,
            "flex_flow": null,
            "grid_area": null,
            "grid_auto_columns": null,
            "grid_auto_flow": null,
            "grid_auto_rows": null,
            "grid_column": null,
            "grid_gap": null,
            "grid_row": null,
            "grid_template_areas": null,
            "grid_template_columns": null,
            "grid_template_rows": null,
            "height": null,
            "justify_content": null,
            "justify_items": null,
            "left": null,
            "margin": null,
            "max_height": null,
            "max_width": null,
            "min_height": null,
            "min_width": null,
            "object_fit": null,
            "object_position": null,
            "order": null,
            "overflow": null,
            "overflow_x": null,
            "overflow_y": null,
            "padding": null,
            "right": null,
            "top": null,
            "visibility": null,
            "width": null
          }
        },
        "e37ebb32e0504aee92afbd0ae59e3f50": {
          "model_module": "@jupyter-widgets/controls",
          "model_module_version": "1.5.0",
          "model_name": "DescriptionStyleModel",
          "state": {
            "_model_module": "@jupyter-widgets/controls",
            "_model_module_version": "1.5.0",
            "_model_name": "DescriptionStyleModel",
            "_view_count": null,
            "_view_module": "@jupyter-widgets/base",
            "_view_module_version": "1.2.0",
            "_view_name": "StyleView",
            "description_width": ""
          }
        },
        "e664b5c01e8743249229e285134e3444": {
          "model_module": "@jupyter-widgets/controls",
          "model_module_version": "1.5.0",
          "model_name": "HTMLModel",
          "state": {
            "_dom_classes": [],
            "_model_module": "@jupyter-widgets/controls",
            "_model_module_version": "1.5.0",
            "_model_name": "HTMLModel",
            "_view_count": null,
            "_view_module": "@jupyter-widgets/controls",
            "_view_module_version": "1.5.0",
            "_view_name": "HTMLView",
            "description": "",
            "description_tooltip": null,
            "layout": "IPY_MODEL_0a45ef62b2c146c284178e75001ed6d1",
            "placeholder": "​",
            "style": "IPY_MODEL_1909fee7230c460c8e0cbf1af18aa0d9",
            "value": "Downloading: 100%"
          }
        },
        "e994c90c5b80454db70125777387b2b1": {
          "model_module": "@jupyter-widgets/controls",
          "model_module_version": "1.5.0",
          "model_name": "FloatProgressModel",
          "state": {
            "_dom_classes": [],
            "_model_module": "@jupyter-widgets/controls",
            "_model_module_version": "1.5.0",
            "_model_name": "FloatProgressModel",
            "_view_count": null,
            "_view_module": "@jupyter-widgets/controls",
            "_view_module_version": "1.5.0",
            "_view_name": "ProgressView",
            "bar_style": "success",
            "description": "",
            "description_tooltip": null,
            "layout": "IPY_MODEL_f805b1e148414d62bf6d2ed74da95fb2",
            "max": 440473133,
            "min": 0,
            "orientation": "horizontal",
            "style": "IPY_MODEL_629840199a4847d8be60530aef975b5e",
            "value": 440473133
          }
        },
        "edd9e763749e4f1c8d64c2e688211ae8": {
          "model_module": "@jupyter-widgets/base",
          "model_module_version": "1.2.0",
          "model_name": "LayoutModel",
          "state": {
            "_model_module": "@jupyter-widgets/base",
            "_model_module_version": "1.2.0",
            "_model_name": "LayoutModel",
            "_view_count": null,
            "_view_module": "@jupyter-widgets/base",
            "_view_module_version": "1.2.0",
            "_view_name": "LayoutView",
            "align_content": null,
            "align_items": null,
            "align_self": null,
            "border": null,
            "bottom": null,
            "display": null,
            "flex": null,
            "flex_flow": null,
            "grid_area": null,
            "grid_auto_columns": null,
            "grid_auto_flow": null,
            "grid_auto_rows": null,
            "grid_column": null,
            "grid_gap": null,
            "grid_row": null,
            "grid_template_areas": null,
            "grid_template_columns": null,
            "grid_template_rows": null,
            "height": null,
            "justify_content": null,
            "justify_items": null,
            "left": null,
            "margin": null,
            "max_height": null,
            "max_width": null,
            "min_height": null,
            "min_width": null,
            "object_fit": null,
            "object_position": null,
            "order": null,
            "overflow": null,
            "overflow_x": null,
            "overflow_y": null,
            "padding": null,
            "right": null,
            "top": null,
            "visibility": null,
            "width": null
          }
        },
        "f805b1e148414d62bf6d2ed74da95fb2": {
          "model_module": "@jupyter-widgets/base",
          "model_module_version": "1.2.0",
          "model_name": "LayoutModel",
          "state": {
            "_model_module": "@jupyter-widgets/base",
            "_model_module_version": "1.2.0",
            "_model_name": "LayoutModel",
            "_view_count": null,
            "_view_module": "@jupyter-widgets/base",
            "_view_module_version": "1.2.0",
            "_view_name": "LayoutView",
            "align_content": null,
            "align_items": null,
            "align_self": null,
            "border": null,
            "bottom": null,
            "display": null,
            "flex": null,
            "flex_flow": null,
            "grid_area": null,
            "grid_auto_columns": null,
            "grid_auto_flow": null,
            "grid_auto_rows": null,
            "grid_column": null,
            "grid_gap": null,
            "grid_row": null,
            "grid_template_areas": null,
            "grid_template_columns": null,
            "grid_template_rows": null,
            "height": null,
            "justify_content": null,
            "justify_items": null,
            "left": null,
            "margin": null,
            "max_height": null,
            "max_width": null,
            "min_height": null,
            "min_width": null,
            "object_fit": null,
            "object_position": null,
            "order": null,
            "overflow": null,
            "overflow_x": null,
            "overflow_y": null,
            "padding": null,
            "right": null,
            "top": null,
            "visibility": null,
            "width": null
          }
        },
        "fc2f6795ce3d4d77a36c510efabd051f": {
          "model_module": "@jupyter-widgets/controls",
          "model_module_version": "1.5.0",
          "model_name": "FloatProgressModel",
          "state": {
            "_dom_classes": [],
            "_model_module": "@jupyter-widgets/controls",
            "_model_module_version": "1.5.0",
            "_model_name": "FloatProgressModel",
            "_view_count": null,
            "_view_module": "@jupyter-widgets/controls",
            "_view_module_version": "1.5.0",
            "_view_name": "ProgressView",
            "bar_style": "success",
            "description": "",
            "description_tooltip": null,
            "layout": "IPY_MODEL_a519aaab64b24351b0dac9e5774999cb",
            "max": 231508,
            "min": 0,
            "orientation": "horizontal",
            "style": "IPY_MODEL_1ffe160b47fc492ca257965cc9edcc14",
            "value": 231508
          }
        },
        "ff443b9975b1408fa6078c3679a38089": {
          "model_module": "@jupyter-widgets/controls",
          "model_module_version": "1.5.0",
          "model_name": "HTMLModel",
          "state": {
            "_dom_classes": [],
            "_model_module": "@jupyter-widgets/controls",
            "_model_module_version": "1.5.0",
            "_model_name": "HTMLModel",
            "_view_count": null,
            "_view_module": "@jupyter-widgets/controls",
            "_view_module_version": "1.5.0",
            "_view_name": "HTMLView",
            "description": "",
            "description_tooltip": null,
            "layout": "IPY_MODEL_aa0c24be86c24820a1a88f32380e4664",
            "placeholder": "​",
            "style": "IPY_MODEL_621d9818976142999b1fc2c4905530c1",
            "value": "Downloading: 100%"
          }
        }
      }
    }
  },
  "nbformat": 4,
  "nbformat_minor": 0
}
